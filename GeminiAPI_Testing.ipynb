{
  "nbformat": 4,
  "nbformat_minor": 0,
  "metadata": {
    "colab": {
      "provenance": [],
      "authorship_tag": "ABX9TyP9SYKvm8j+WOH46kqzh+gl",
      "include_colab_link": true
    },
    "kernelspec": {
      "name": "python3",
      "display_name": "Python 3"
    },
    "language_info": {
      "name": "python"
    }
  },
  "cells": [
    {
      "cell_type": "markdown",
      "metadata": {
        "id": "view-in-github",
        "colab_type": "text"
      },
      "source": [
        "<a href=\"https://colab.research.google.com/github/vanshuwjoshi/GoogleGemini-Testing/blob/main/GeminiAPI_Testing.ipynb\" target=\"_parent\"><img src=\"https://colab.research.google.com/assets/colab-badge.svg\" alt=\"Open In Colab\"/></a>"
      ]
    },
    {
      "cell_type": "code",
      "execution_count": null,
      "metadata": {
        "colab": {
          "base_uri": "https://localhost:8080/"
        },
        "id": "fqQ9OvsmREhw",
        "outputId": "af159570-c4fe-46df-adef-a4cb3d57412d"
      },
      "outputs": [
        {
          "output_type": "stream",
          "name": "stdout",
          "text": [
            "\u001b[?25l     \u001b[90m━━━━━━━━━━━━━━━━━━━━━━━━━━━━━━━━━━━━━━━━\u001b[0m \u001b[32m0.0/137.4 kB\u001b[0m \u001b[31m?\u001b[0m eta \u001b[36m-:--:--\u001b[0m\r\u001b[2K     \u001b[91m━━━━━━━━━━━━━━━━━━━━━━━━━━━━━━━━\u001b[0m\u001b[91m╸\u001b[0m\u001b[90m━━━━━━━\u001b[0m \u001b[32m112.6/137.4 kB\u001b[0m \u001b[31m3.2 MB/s\u001b[0m eta \u001b[36m0:00:01\u001b[0m\r\u001b[2K     \u001b[90m━━━━━━━━━━━━━━━━━━━━━━━━━━━━━━━━━━━━━━━━\u001b[0m \u001b[32m137.4/137.4 kB\u001b[0m \u001b[31m2.3 MB/s\u001b[0m eta \u001b[36m0:00:00\u001b[0m\n",
            "\u001b[?25h"
          ]
        }
      ],
      "source": [
        "!pip install -q -U google-generativeai"
      ]
    },
    {
      "cell_type": "code",
      "source": [
        "import pathlib ## This module offers classes representing filesystem paths\n",
        "import textwrap ## Wraps the single paragraph in text (a string)\n",
        "## so every line is at most width characters long\n",
        "\n",
        "import google.generativeai as genai\n",
        "\n",
        "from IPython.display import display\n",
        "from IPython.display import Markdown\n",
        "\n",
        "def to_markdown(text):\n",
        "  text = text.replace('•', '  *')\n",
        "  return Markdown(textwrap.indent(text, '> ', predicate=lambda _: True))"
      ],
      "metadata": {
        "id": "o8pQdIzcRieR"
      },
      "execution_count": null,
      "outputs": []
    },
    {
      "cell_type": "code",
      "source": [
        "# Used to securely store your API key\n",
        "from google.colab import userdata"
      ],
      "metadata": {
        "id": "Xj0YClmlRinC"
      },
      "execution_count": null,
      "outputs": []
    },
    {
      "cell_type": "code",
      "source": [
        "GOOGLE_API_KEY = userdata.get('GOOGLE_API_KEY')\n",
        "genai.configure(api_key=GOOGLE_API_KEY)"
      ],
      "metadata": {
        "id": "2m--nTThRip3"
      },
      "execution_count": null,
      "outputs": []
    },
    {
      "cell_type": "markdown",
      "source": [
        "Now we can call the Gemini model"
      ],
      "metadata": {
        "id": "-zjyRqlWTGZY"
      }
    },
    {
      "cell_type": "code",
      "source": [
        "model = genai.GenerativeModel('gemini-pro')"
      ],
      "metadata": {
        "id": "yyqMMpB7Ris6"
      },
      "execution_count": null,
      "outputs": []
    },
    {
      "cell_type": "code",
      "source": [
        "response = model.generate_content(\"What is the meaning of Black Hole?\")"
      ],
      "metadata": {
        "id": "41_F-z8rRiv5"
      },
      "execution_count": null,
      "outputs": []
    },
    {
      "cell_type": "code",
      "source": [
        "to_markdown(response.text)"
      ],
      "metadata": {
        "colab": {
          "base_uri": "https://localhost:8080/",
          "height": 219
        },
        "id": "_KgFxddMRiy3",
        "outputId": "da65d21a-0e23-4fd2-ab8c-1fca91c58e9c"
      },
      "execution_count": null,
      "outputs": [
        {
          "output_type": "execute_result",
          "data": {
            "text/plain": [
              "<IPython.core.display.Markdown object>"
            ],
            "text/markdown": "> A black hole is a region of spacetime exhibiting such strong gravitational effects that nothing, not even light, can escape. The theory of general relativity predicts that a sufficiently compact mass can deform spacetime to form a black hole. The boundary of no escape is called the event horizon. Anything that passes the event horizon, including light, can never escape the black hole.\n> \n> Black holes are formed when a star collapses at the end of its life. If the star is massive enough, the gravitational pull will become so strong that the star will collapse into a black hole. The more massive the black hole, the stronger its gravitational pull will be.\n> \n> Black holes cannot be directly observed, but their presence can be inferred from their effects on the surrounding matter. For example, black holes can cause stars to orbit them in a peculiar way, and they can also emit radiation called Hawking radiation.\n> \n> Black holes are one of the most fascinating and mysterious objects in the universe. They are a testament to the power of gravity and the strangeness of quantum mechanics."
          },
          "metadata": {},
          "execution_count": 7
        }
      ]
    },
    {
      "cell_type": "code",
      "source": [
        "response"
      ],
      "metadata": {
        "colab": {
          "base_uri": "https://localhost:8080/"
        },
        "id": "7a-sNeZSRi1x",
        "outputId": "8509e891-e114-44b3-e20b-3024ec470ff2"
      },
      "execution_count": null,
      "outputs": [
        {
          "output_type": "execute_result",
          "data": {
            "text/plain": [
              "response:\n",
              "GenerateContentResponse(\n",
              "    done=True,\n",
              "    iterator=None,\n",
              "    result=glm.GenerateContentResponse({'candidates': [{'content': {'parts': [{'text': 'A black hole is a region of spacetime exhibiting such strong gravitational effects that nothing, not even light, can escape. The theory of general relativity predicts that a sufficiently compact mass can deform spacetime to form a black hole. The boundary of no escape is called the event horizon. Anything that passes the event horizon, including light, can never escape the black hole.\\n\\nBlack holes are formed when a star collapses at the end of its life. If the star is massive enough, the gravitational pull will become so strong that the star will collapse into a black hole. The more massive the black hole, the stronger its gravitational pull will be.\\n\\nBlack holes cannot be directly observed, but their presence can be inferred from their effects on the surrounding matter. For example, black holes can cause stars to orbit them in a peculiar way, and they can also emit radiation called Hawking radiation.\\n\\nBlack holes are one of the most fascinating and mysterious objects in the universe. They are a testament to the power of gravity and the strangeness of quantum mechanics.'}], 'role': 'model'}, 'finish_reason': 1, 'index': 0, 'safety_ratings': [{'category': 9, 'probability': 1, 'blocked': False}, {'category': 8, 'probability': 1, 'blocked': False}, {'category': 7, 'probability': 1, 'blocked': False}, {'category': 10, 'probability': 1, 'blocked': False}], 'citation_metadata': {'citation_sources': [{'start_index': 0, 'end_index': 125, 'uri': 'https://digitaldealer.com/latest-news/black-hole-marketing-data/', 'license_': ''}, {'start_index': 125, 'end_index': 295, 'uri': 'https://en.wikipedia.org/wiki/Black_hole', 'license_': ''}]}, 'token_count': 0, 'grounding_attributions': []}], 'prompt_feedback': {'safety_ratings': [{'category': 9, 'probability': 1, 'blocked': False}, {'category': 8, 'probability': 1, 'blocked': False}, {'category': 7, 'probability': 1, 'blocked': False}, {'category': 10, 'probability': 1, 'blocked': False}], 'block_reason': 0}}),\n",
              ")"
            ]
          },
          "metadata": {},
          "execution_count": 8
        }
      ]
    },
    {
      "cell_type": "code",
      "source": [
        "response.candidates"
      ],
      "metadata": {
        "colab": {
          "base_uri": "https://localhost:8080/"
        },
        "id": "Sr6IBCI9Ri45",
        "outputId": "fc73dd04-beb9-441b-d51a-ed8c1fbd356f"
      },
      "execution_count": null,
      "outputs": [
        {
          "output_type": "execute_result",
          "data": {
            "text/plain": [
              "[content {\n",
              "  parts {\n",
              "    text: \"A black hole is a region of spacetime exhibiting such strong gravitational effects that nothing, not even light, can escape. The theory of general relativity predicts that a sufficiently compact mass can deform spacetime to form a black hole. The boundary of no escape is called the event horizon. Anything that passes the event horizon, including light, can never escape the black hole.\\n\\nBlack holes are formed when a star collapses at the end of its life. If the star is massive enough, the gravitational pull will become so strong that the star will collapse into a black hole. The more massive the black hole, the stronger its gravitational pull will be.\\n\\nBlack holes cannot be directly observed, but their presence can be inferred from their effects on the surrounding matter. For example, black holes can cause stars to orbit them in a peculiar way, and they can also emit radiation called Hawking radiation.\\n\\nBlack holes are one of the most fascinating and mysterious objects in the universe. They are a testament to the power of gravity and the strangeness of quantum mechanics.\"\n",
              "  }\n",
              "  role: \"model\"\n",
              "}\n",
              "finish_reason: STOP\n",
              "index: 0\n",
              "safety_ratings {\n",
              "  category: HARM_CATEGORY_SEXUALLY_EXPLICIT\n",
              "  probability: NEGLIGIBLE\n",
              "}\n",
              "safety_ratings {\n",
              "  category: HARM_CATEGORY_HATE_SPEECH\n",
              "  probability: NEGLIGIBLE\n",
              "}\n",
              "safety_ratings {\n",
              "  category: HARM_CATEGORY_HARASSMENT\n",
              "  probability: NEGLIGIBLE\n",
              "}\n",
              "safety_ratings {\n",
              "  category: HARM_CATEGORY_DANGEROUS_CONTENT\n",
              "  probability: NEGLIGIBLE\n",
              "}\n",
              "citation_metadata {\n",
              "  citation_sources {\n",
              "    start_index: 0\n",
              "    end_index: 125\n",
              "    uri: \"https://digitaldealer.com/latest-news/black-hole-marketing-data/\"\n",
              "    license_: \"\"\n",
              "  }\n",
              "  citation_sources {\n",
              "    start_index: 125\n",
              "    end_index: 295\n",
              "    uri: \"https://en.wikipedia.org/wiki/Black_hole\"\n",
              "    license_: \"\"\n",
              "  }\n",
              "}\n",
              "]"
            ]
          },
          "metadata": {},
          "execution_count": 9
        }
      ]
    },
    {
      "cell_type": "code",
      "source": [
        "def getInputString(age, calories, dietry_restrictions):\n",
        "  return f\"I am a {age} old person. I want to eat {calories} calories a day. I am a {dietry_restrictions}. Can you give me a 1 day meal plan?\".format(age, calories, dietry_restrictions)"
      ],
      "metadata": {
        "id": "w8yIiHHNRi7w"
      },
      "execution_count": 41,
      "outputs": []
    },
    {
      "cell_type": "code",
      "source": [
        "input = getInputString(23, 3000, \"vegetarian\")\n",
        "to_markdown(input)"
      ],
      "metadata": {
        "colab": {
          "base_uri": "https://localhost:8080/",
          "height": 62
        },
        "id": "N54NQyPmRi-f",
        "outputId": "ab636c2b-df18-48f8-97d5-185cb0bd0278"
      },
      "execution_count": 42,
      "outputs": [
        {
          "output_type": "execute_result",
          "data": {
            "text/plain": [
              "<IPython.core.display.Markdown object>"
            ],
            "text/markdown": "> I am a 23 old person. I want to eat 3000 calories a day. I am a vegetarian. Can you give me a 1 day meal plan?"
          },
          "metadata": {},
          "execution_count": 42
        }
      ]
    },
    {
      "cell_type": "code",
      "source": [
        "response = model.generate_content(input)"
      ],
      "metadata": {
        "id": "lwVJDHd0RjBH"
      },
      "execution_count": 43,
      "outputs": []
    },
    {
      "cell_type": "code",
      "source": [
        "to_markdown(response.text)"
      ],
      "metadata": {
        "colab": {
          "base_uri": "https://localhost:8080/",
          "height": 568
        },
        "id": "18TcGx_HWGq7",
        "outputId": "d88fa5f5-2b5e-4bc8-f161-a25bbce86694"
      },
      "execution_count": 44,
      "outputs": [
        {
          "output_type": "execute_result",
          "data": {
            "text/plain": [
              "<IPython.core.display.Markdown object>"
            ],
            "text/markdown": "> **Breakfast (900 calories)**\n> \n> * Oatmeal with nuts, seeds, and berries (400 calories)\n> * Tofu scramble with vegetables (250 calories)\n> * Whole-wheat toast with avocado (250 calories)\n> \n> **Lunch (1000 calories)**\n> \n> * Lentil soup (300 calories)\n> * Salad with grilled tempeh, quinoa, vegetables, and beans (400 calories)\n> * Brown rice with sautéed tofu and vegetables (300 calories)\n> \n> **Dinner (1100 calories)**\n> \n> * Vegetarian chili with cornbread (500 calories)\n> * Pasta with marinara sauce, vegetables, and vegan cheese (400 calories)\n> * Stir-fry with tofu, vegetables, and brown rice (200 calories)\n> \n> **Snacks (600 calories)**\n> \n> * Trail mix (200 calories)\n> * Hummus with pita chips (200 calories)\n> * Banana with peanut butter (200 calories)\n> \n> **Total Calories: 3000**\n> \n> **Hydration:**\n> \n> * Drink plenty of water throughout the day.\n> \n> **Tips:**\n> \n> * Choose whole, unprocessed foods whenever possible.\n> * Include a variety of fruits, vegetables, whole grains, and legumes in your diet.\n> * Use healthy fats from sources such as avocados, nuts, and seeds.\n> * Limit processed foods, sugary drinks, and unhealthy fats.\n> * Listen to your body and eat when you're hungry, but stop when you're full.\n> * If you have any underlying health conditions or dietary restrictions, consult with a healthcare professional or registered dietitian."
          },
          "metadata": {},
          "execution_count": 44
        }
      ]
    },
    {
      "cell_type": "code",
      "source": [
        "print(response.candidates[0].content.parts[0].text)"
      ],
      "metadata": {
        "colab": {
          "base_uri": "https://localhost:8080/"
        },
        "id": "QbU2iwaUWYys",
        "outputId": "00d0a534-a324-4bad-8f44-2beb9585489d"
      },
      "execution_count": 45,
      "outputs": [
        {
          "output_type": "stream",
          "name": "stdout",
          "text": [
            "**Breakfast (900 calories)**\n",
            "\n",
            "* Oatmeal with nuts, seeds, and berries (400 calories)\n",
            "* Tofu scramble with vegetables (250 calories)\n",
            "* Whole-wheat toast with avocado (250 calories)\n",
            "\n",
            "**Lunch (1000 calories)**\n",
            "\n",
            "* Lentil soup (300 calories)\n",
            "* Salad with grilled tempeh, quinoa, vegetables, and beans (400 calories)\n",
            "* Brown rice with sautéed tofu and vegetables (300 calories)\n",
            "\n",
            "**Dinner (1100 calories)**\n",
            "\n",
            "* Vegetarian chili with cornbread (500 calories)\n",
            "* Pasta with marinara sauce, vegetables, and vegan cheese (400 calories)\n",
            "* Stir-fry with tofu, vegetables, and brown rice (200 calories)\n",
            "\n",
            "**Snacks (600 calories)**\n",
            "\n",
            "* Trail mix (200 calories)\n",
            "* Hummus with pita chips (200 calories)\n",
            "* Banana with peanut butter (200 calories)\n",
            "\n",
            "**Total Calories: 3000**\n",
            "\n",
            "**Hydration:**\n",
            "\n",
            "* Drink plenty of water throughout the day.\n",
            "\n",
            "**Tips:**\n",
            "\n",
            "* Choose whole, unprocessed foods whenever possible.\n",
            "* Include a variety of fruits, vegetables, whole grains, and legumes in your diet.\n",
            "* Use healthy fats from sources such as avocados, nuts, and seeds.\n",
            "* Limit processed foods, sugary drinks, and unhealthy fats.\n",
            "* Listen to your body and eat when you're hungry, but stop when you're full.\n",
            "* If you have any underlying health conditions or dietary restrictions, consult with a healthcare professional or registered dietitian.\n"
          ]
        }
      ]
    },
    {
      "cell_type": "code",
      "source": [
        "input+\" Can you give the response in JSON format?\""
      ],
      "metadata": {
        "colab": {
          "base_uri": "https://localhost:8080/",
          "height": 36
        },
        "id": "4f-VTgBXYQAG",
        "outputId": "91fc21b5-ecda-4eda-8542-6505c4685034"
      },
      "execution_count": 46,
      "outputs": [
        {
          "output_type": "execute_result",
          "data": {
            "text/plain": [
              "'I am a 23 old person. I want to eat 3000 calories a day. I am a vegetarian. Can you give me a 1 day meal plan? Can you give the response in JSON format?'"
            ],
            "application/vnd.google.colaboratory.intrinsic+json": {
              "type": "string"
            }
          },
          "metadata": {},
          "execution_count": 46
        }
      ]
    },
    {
      "cell_type": "code",
      "source": [
        "response_1 = model.generate_content(input+\" Can you give the response in JSON format?\")"
      ],
      "metadata": {
        "id": "cewU2uRlYZDW"
      },
      "execution_count": 47,
      "outputs": []
    },
    {
      "cell_type": "code",
      "source": [
        "response_1.candidates[0].content.parts[0].text"
      ],
      "metadata": {
        "colab": {
          "base_uri": "https://localhost:8080/",
          "height": 163
        },
        "id": "6Juzlp0_YhUP",
        "outputId": "2ae169c0-7221-4fb0-be7a-09607e1936dd"
      },
      "execution_count": 48,
      "outputs": [
        {
          "output_type": "execute_result",
          "data": {
            "text/plain": [
              "'```json\\n{\\n  \"Meal Plan\": {\\n    \"Breakfast\": {\\n      \"Calories\": 1000,\\n      \"Items\": [\\n        {\\n          \"Food\": \"Oatmeal with berries and nuts\",\\n          \"Calories\": 350\\n        },\\n        {\\n          \"Food\": \"Whole-wheat toast with avocado and hummus\",\\n          \"Calories\": 250\\n        },\\n        {\\n          \"Food\": \"Fruit smoothie made with yogurt, fruit, and spinach\",\\n          \"Calories\": 400\\n        }\\n      ]\\n    },\\n    \"Lunch\": {\\n      \"Calories\": 800,\\n      \"Items\": [\\n        {\\n          \"Food\": \"Lentil soup with whole-wheat bread\",\\n          \"Calories\": 350\\n        },\\n        {\\n          \"Food\": \"Black bean burrito with brown rice and vegetables\",\\n          \"Calories\": 300\\n        },\\n        {\\n          \"Food\": \"Greek salad with quinoa and feta cheese\",\\n          \"Calories\": 150\\n        }\\n      ]\\n    },\\n    \"Dinner\": {\\n      \"Calories\": 900,\\n      \"Items\": [\\n        {\\n          \"Food\": \"Grilled tempeh with roasted vegetables and mashed sweet potatoes\",\\n          \"Calories\": 400\\n        },\\n        {\\n          \"Food\": \"Quinoa stir-fry with tofu and vegetables\",\\n          \"Calories\": 350\\n        },\\n        {\\n          \"Food\": \"Vegetarian chili with cornbread\",\\n          \"Calories\": 150\\n        }\\n      ]\\n    },\\n    \"Snacks\": {\\n      \"Calories\": 300,\\n      \"Items\": [\\n        {\\n          \"Food\": \"Apple with peanut butter\",\\n          \"Calories\": 200\\n        },\\n        {\\n          \"Food\": \"Trail mix with nuts, seeds, and dried fruit\",\\n          \"Calories\": 100\\n        }\\n      ]\\n    }\\n  }\\n}\\n```'"
            ],
            "application/vnd.google.colaboratory.intrinsic+json": {
              "type": "string"
            }
          },
          "metadata": {},
          "execution_count": 48
        }
      ]
    },
    {
      "cell_type": "code",
      "source": [
        "type(response_1.candidates[0].content.parts[0].text)"
      ],
      "metadata": {
        "colab": {
          "base_uri": "https://localhost:8080/"
        },
        "id": "vPA2uHiCY-XB",
        "outputId": "1d8bd1cf-21eb-4e55-d2be-6cf331e7f245"
      },
      "execution_count": 49,
      "outputs": [
        {
          "output_type": "execute_result",
          "data": {
            "text/plain": [
              "str"
            ]
          },
          "metadata": {},
          "execution_count": 49
        }
      ]
    },
    {
      "cell_type": "code",
      "source": [
        "print(response_1.candidates[0].content.parts[0].text)"
      ],
      "metadata": {
        "colab": {
          "base_uri": "https://localhost:8080/"
        },
        "id": "uRaEma7AY-Uh",
        "outputId": "f44a7f8a-f184-4c79-d938-e5fefd7e4c57"
      },
      "execution_count": 50,
      "outputs": [
        {
          "output_type": "stream",
          "name": "stdout",
          "text": [
            "```json\n",
            "{\n",
            "  \"Meal Plan\": {\n",
            "    \"Breakfast\": {\n",
            "      \"Calories\": 1000,\n",
            "      \"Items\": [\n",
            "        {\n",
            "          \"Food\": \"Oatmeal with berries and nuts\",\n",
            "          \"Calories\": 350\n",
            "        },\n",
            "        {\n",
            "          \"Food\": \"Whole-wheat toast with avocado and hummus\",\n",
            "          \"Calories\": 250\n",
            "        },\n",
            "        {\n",
            "          \"Food\": \"Fruit smoothie made with yogurt, fruit, and spinach\",\n",
            "          \"Calories\": 400\n",
            "        }\n",
            "      ]\n",
            "    },\n",
            "    \"Lunch\": {\n",
            "      \"Calories\": 800,\n",
            "      \"Items\": [\n",
            "        {\n",
            "          \"Food\": \"Lentil soup with whole-wheat bread\",\n",
            "          \"Calories\": 350\n",
            "        },\n",
            "        {\n",
            "          \"Food\": \"Black bean burrito with brown rice and vegetables\",\n",
            "          \"Calories\": 300\n",
            "        },\n",
            "        {\n",
            "          \"Food\": \"Greek salad with quinoa and feta cheese\",\n",
            "          \"Calories\": 150\n",
            "        }\n",
            "      ]\n",
            "    },\n",
            "    \"Dinner\": {\n",
            "      \"Calories\": 900,\n",
            "      \"Items\": [\n",
            "        {\n",
            "          \"Food\": \"Grilled tempeh with roasted vegetables and mashed sweet potatoes\",\n",
            "          \"Calories\": 400\n",
            "        },\n",
            "        {\n",
            "          \"Food\": \"Quinoa stir-fry with tofu and vegetables\",\n",
            "          \"Calories\": 350\n",
            "        },\n",
            "        {\n",
            "          \"Food\": \"Vegetarian chili with cornbread\",\n",
            "          \"Calories\": 150\n",
            "        }\n",
            "      ]\n",
            "    },\n",
            "    \"Snacks\": {\n",
            "      \"Calories\": 300,\n",
            "      \"Items\": [\n",
            "        {\n",
            "          \"Food\": \"Apple with peanut butter\",\n",
            "          \"Calories\": 200\n",
            "        },\n",
            "        {\n",
            "          \"Food\": \"Trail mix with nuts, seeds, and dried fruit\",\n",
            "          \"Calories\": 100\n",
            "        }\n",
            "      ]\n",
            "    }\n",
            "  }\n",
            "}\n",
            "```\n"
          ]
        }
      ]
    },
    {
      "cell_type": "code",
      "source": [
        "response_string = response_1.candidates[0].content.parts[0].text\n",
        "response_string"
      ],
      "metadata": {
        "colab": {
          "base_uri": "https://localhost:8080/",
          "height": 109
        },
        "id": "Qq1MxtovdHm-",
        "outputId": "2ec55092-86f7-4485-c6c7-86b5b810699f"
      },
      "execution_count": 53,
      "outputs": [
        {
          "output_type": "execute_result",
          "data": {
            "text/plain": [
              "'```json\\n{\\n  \"Meal Plan\": {\\n    \"Breakfast\": {\\n      \"Calories\": 1000,\\n      \"Items\": [\\n        {\\n          \"Food\": \"Oatmeal with berries and nuts\",\\n          \"Calories\": 350\\n        },\\n        {\\n          \"Food\": \"Whole-wheat toast with avocado and hummus\",\\n          \"Calories\": 250\\n        },\\n        {\\n          \"Food\": \"Fruit smoothie made with yogurt, fruit, and spinach\",\\n          \"Calories\": 400\\n        }\\n      ]\\n    },\\n    \"Lunch\": {\\n      \"Calories\": 800,\\n      \"Items\": [\\n        {\\n          \"Food\": \"Lentil soup with whole-wheat bread\",\\n          \"Calories\": 350\\n        },\\n        {\\n          \"Food\": \"Black bean burrito with brown rice and vegetables\",\\n          \"Calories\": 300\\n        },\\n        {\\n          \"Food\": \"Greek salad with quinoa and feta cheese\",\\n          \"Calories\": 150\\n        }\\n      ]\\n    },\\n    \"Dinner\": {\\n      \"Calories\": 900,\\n      \"Items\": [\\n        {\\n          \"Food\": \"Grilled tempeh with roasted vegetables and mashed sweet potatoes\",\\n          \"Calories\": 400\\n        },\\n        {\\n          \"Food\": \"Quinoa stir-fry with tofu and vegetables\",\\n          \"Calories\": 350\\n        },\\n        {\\n          \"Food\": \"Vegetarian chili with cornbread\",\\n          \"Calories\": 150\\n        }\\n      ]\\n    },\\n    \"Snacks\": {\\n      \"Calories\": 300,\\n      \"Items\": [\\n        {\\n          \"Food\": \"Apple with peanut butter\",\\n          \"Calories\": 200\\n        },\\n        {\\n          \"Food\": \"Trail mix with nuts, seeds, and dried fruit\",\\n          \"Calories\": 100\\n        }\\n      ]\\n    }\\n  }\\n}\\n```'"
            ],
            "application/vnd.google.colaboratory.intrinsic+json": {
              "type": "string"
            }
          },
          "metadata": {},
          "execution_count": 53
        }
      ]
    },
    {
      "cell_type": "code",
      "source": [
        "response_string[0:]"
      ],
      "metadata": {
        "colab": {
          "base_uri": "https://localhost:8080/",
          "height": 163
        },
        "id": "GP0iLaMfdNRU",
        "outputId": "fc708121-f20c-4279-ca69-79645420a231"
      },
      "execution_count": 54,
      "outputs": [
        {
          "output_type": "execute_result",
          "data": {
            "text/plain": [
              "'```json\\n{\\n  \"Meal Plan\": {\\n    \"Breakfast\": {\\n      \"Calories\": 1000,\\n      \"Items\": [\\n        {\\n          \"Food\": \"Oatmeal with berries and nuts\",\\n          \"Calories\": 350\\n        },\\n        {\\n          \"Food\": \"Whole-wheat toast with avocado and hummus\",\\n          \"Calories\": 250\\n        },\\n        {\\n          \"Food\": \"Fruit smoothie made with yogurt, fruit, and spinach\",\\n          \"Calories\": 400\\n        }\\n      ]\\n    },\\n    \"Lunch\": {\\n      \"Calories\": 800,\\n      \"Items\": [\\n        {\\n          \"Food\": \"Lentil soup with whole-wheat bread\",\\n          \"Calories\": 350\\n        },\\n        {\\n          \"Food\": \"Black bean burrito with brown rice and vegetables\",\\n          \"Calories\": 300\\n        },\\n        {\\n          \"Food\": \"Greek salad with quinoa and feta cheese\",\\n          \"Calories\": 150\\n        }\\n      ]\\n    },\\n    \"Dinner\": {\\n      \"Calories\": 900,\\n      \"Items\": [\\n        {\\n          \"Food\": \"Grilled tempeh with roasted vegetables and mashed sweet potatoes\",\\n          \"Calories\": 400\\n        },\\n        {\\n          \"Food\": \"Quinoa stir-fry with tofu and vegetables\",\\n          \"Calories\": 350\\n        },\\n        {\\n          \"Food\": \"Vegetarian chili with cornbread\",\\n          \"Calories\": 150\\n        }\\n      ]\\n    },\\n    \"Snacks\": {\\n      \"Calories\": 300,\\n      \"Items\": [\\n        {\\n          \"Food\": \"Apple with peanut butter\",\\n          \"Calories\": 200\\n        },\\n        {\\n          \"Food\": \"Trail mix with nuts, seeds, and dried fruit\",\\n          \"Calories\": 100\\n        }\\n      ]\\n    }\\n  }\\n}\\n```'"
            ],
            "application/vnd.google.colaboratory.intrinsic+json": {
              "type": "string"
            }
          },
          "metadata": {},
          "execution_count": 54
        }
      ]
    },
    {
      "cell_type": "code",
      "source": [
        "import json"
      ],
      "metadata": {
        "id": "iVwfD93TY-LJ"
      },
      "execution_count": 51,
      "outputs": []
    },
    {
      "cell_type": "code",
      "source": [
        "response_json = json.loads(response_1.candidates[0].content.parts[0].text)"
      ],
      "metadata": {
        "id": "SRVgMsYVY-IY",
        "colab": {
          "base_uri": "https://localhost:8080/",
          "height": 280
        },
        "outputId": "f2ade3aa-cb9e-43f9-caae-735b48eb45e9"
      },
      "execution_count": 52,
      "outputs": [
        {
          "output_type": "error",
          "ename": "JSONDecodeError",
          "evalue": "Expecting value: line 1 column 1 (char 0)",
          "traceback": [
            "\u001b[0;31m---------------------------------------------------------------------------\u001b[0m",
            "\u001b[0;31mJSONDecodeError\u001b[0m                           Traceback (most recent call last)",
            "\u001b[0;32m<ipython-input-52-f755376c6b3b>\u001b[0m in \u001b[0;36m<cell line: 1>\u001b[0;34m()\u001b[0m\n\u001b[0;32m----> 1\u001b[0;31m \u001b[0mresponse_json\u001b[0m \u001b[0;34m=\u001b[0m \u001b[0mjson\u001b[0m\u001b[0;34m.\u001b[0m\u001b[0mloads\u001b[0m\u001b[0;34m(\u001b[0m\u001b[0mresponse_1\u001b[0m\u001b[0;34m.\u001b[0m\u001b[0mcandidates\u001b[0m\u001b[0;34m[\u001b[0m\u001b[0;36m0\u001b[0m\u001b[0;34m]\u001b[0m\u001b[0;34m.\u001b[0m\u001b[0mcontent\u001b[0m\u001b[0;34m.\u001b[0m\u001b[0mparts\u001b[0m\u001b[0;34m[\u001b[0m\u001b[0;36m0\u001b[0m\u001b[0;34m]\u001b[0m\u001b[0;34m.\u001b[0m\u001b[0mtext\u001b[0m\u001b[0;34m)\u001b[0m\u001b[0;34m\u001b[0m\u001b[0;34m\u001b[0m\u001b[0m\n\u001b[0m",
            "\u001b[0;32m/usr/lib/python3.10/json/__init__.py\u001b[0m in \u001b[0;36mloads\u001b[0;34m(s, cls, object_hook, parse_float, parse_int, parse_constant, object_pairs_hook, **kw)\u001b[0m\n\u001b[1;32m    344\u001b[0m             \u001b[0mparse_int\u001b[0m \u001b[0;32mis\u001b[0m \u001b[0;32mNone\u001b[0m \u001b[0;32mand\u001b[0m \u001b[0mparse_float\u001b[0m \u001b[0;32mis\u001b[0m \u001b[0;32mNone\u001b[0m \u001b[0;32mand\u001b[0m\u001b[0;34m\u001b[0m\u001b[0;34m\u001b[0m\u001b[0m\n\u001b[1;32m    345\u001b[0m             parse_constant is None and object_pairs_hook is None and not kw):\n\u001b[0;32m--> 346\u001b[0;31m         \u001b[0;32mreturn\u001b[0m \u001b[0m_default_decoder\u001b[0m\u001b[0;34m.\u001b[0m\u001b[0mdecode\u001b[0m\u001b[0;34m(\u001b[0m\u001b[0ms\u001b[0m\u001b[0;34m)\u001b[0m\u001b[0;34m\u001b[0m\u001b[0;34m\u001b[0m\u001b[0m\n\u001b[0m\u001b[1;32m    347\u001b[0m     \u001b[0;32mif\u001b[0m \u001b[0mcls\u001b[0m \u001b[0;32mis\u001b[0m \u001b[0;32mNone\u001b[0m\u001b[0;34m:\u001b[0m\u001b[0;34m\u001b[0m\u001b[0;34m\u001b[0m\u001b[0m\n\u001b[1;32m    348\u001b[0m         \u001b[0mcls\u001b[0m \u001b[0;34m=\u001b[0m \u001b[0mJSONDecoder\u001b[0m\u001b[0;34m\u001b[0m\u001b[0;34m\u001b[0m\u001b[0m\n",
            "\u001b[0;32m/usr/lib/python3.10/json/decoder.py\u001b[0m in \u001b[0;36mdecode\u001b[0;34m(self, s, _w)\u001b[0m\n\u001b[1;32m    335\u001b[0m \u001b[0;34m\u001b[0m\u001b[0m\n\u001b[1;32m    336\u001b[0m         \"\"\"\n\u001b[0;32m--> 337\u001b[0;31m         \u001b[0mobj\u001b[0m\u001b[0;34m,\u001b[0m \u001b[0mend\u001b[0m \u001b[0;34m=\u001b[0m \u001b[0mself\u001b[0m\u001b[0;34m.\u001b[0m\u001b[0mraw_decode\u001b[0m\u001b[0;34m(\u001b[0m\u001b[0ms\u001b[0m\u001b[0;34m,\u001b[0m \u001b[0midx\u001b[0m\u001b[0;34m=\u001b[0m\u001b[0m_w\u001b[0m\u001b[0;34m(\u001b[0m\u001b[0ms\u001b[0m\u001b[0;34m,\u001b[0m \u001b[0;36m0\u001b[0m\u001b[0;34m)\u001b[0m\u001b[0;34m.\u001b[0m\u001b[0mend\u001b[0m\u001b[0;34m(\u001b[0m\u001b[0;34m)\u001b[0m\u001b[0;34m)\u001b[0m\u001b[0;34m\u001b[0m\u001b[0;34m\u001b[0m\u001b[0m\n\u001b[0m\u001b[1;32m    338\u001b[0m         \u001b[0mend\u001b[0m \u001b[0;34m=\u001b[0m \u001b[0m_w\u001b[0m\u001b[0;34m(\u001b[0m\u001b[0ms\u001b[0m\u001b[0;34m,\u001b[0m \u001b[0mend\u001b[0m\u001b[0;34m)\u001b[0m\u001b[0;34m.\u001b[0m\u001b[0mend\u001b[0m\u001b[0;34m(\u001b[0m\u001b[0;34m)\u001b[0m\u001b[0;34m\u001b[0m\u001b[0;34m\u001b[0m\u001b[0m\n\u001b[1;32m    339\u001b[0m         \u001b[0;32mif\u001b[0m \u001b[0mend\u001b[0m \u001b[0;34m!=\u001b[0m \u001b[0mlen\u001b[0m\u001b[0;34m(\u001b[0m\u001b[0ms\u001b[0m\u001b[0;34m)\u001b[0m\u001b[0;34m:\u001b[0m\u001b[0;34m\u001b[0m\u001b[0;34m\u001b[0m\u001b[0m\n",
            "\u001b[0;32m/usr/lib/python3.10/json/decoder.py\u001b[0m in \u001b[0;36mraw_decode\u001b[0;34m(self, s, idx)\u001b[0m\n\u001b[1;32m    353\u001b[0m             \u001b[0mobj\u001b[0m\u001b[0;34m,\u001b[0m \u001b[0mend\u001b[0m \u001b[0;34m=\u001b[0m \u001b[0mself\u001b[0m\u001b[0;34m.\u001b[0m\u001b[0mscan_once\u001b[0m\u001b[0;34m(\u001b[0m\u001b[0ms\u001b[0m\u001b[0;34m,\u001b[0m \u001b[0midx\u001b[0m\u001b[0;34m)\u001b[0m\u001b[0;34m\u001b[0m\u001b[0;34m\u001b[0m\u001b[0m\n\u001b[1;32m    354\u001b[0m         \u001b[0;32mexcept\u001b[0m \u001b[0mStopIteration\u001b[0m \u001b[0;32mas\u001b[0m \u001b[0merr\u001b[0m\u001b[0;34m:\u001b[0m\u001b[0;34m\u001b[0m\u001b[0;34m\u001b[0m\u001b[0m\n\u001b[0;32m--> 355\u001b[0;31m             \u001b[0;32mraise\u001b[0m \u001b[0mJSONDecodeError\u001b[0m\u001b[0;34m(\u001b[0m\u001b[0;34m\"Expecting value\"\u001b[0m\u001b[0;34m,\u001b[0m \u001b[0ms\u001b[0m\u001b[0;34m,\u001b[0m \u001b[0merr\u001b[0m\u001b[0;34m.\u001b[0m\u001b[0mvalue\u001b[0m\u001b[0;34m)\u001b[0m \u001b[0;32mfrom\u001b[0m \u001b[0;32mNone\u001b[0m\u001b[0;34m\u001b[0m\u001b[0;34m\u001b[0m\u001b[0m\n\u001b[0m\u001b[1;32m    356\u001b[0m         \u001b[0;32mreturn\u001b[0m \u001b[0mobj\u001b[0m\u001b[0;34m,\u001b[0m \u001b[0mend\u001b[0m\u001b[0;34m\u001b[0m\u001b[0;34m\u001b[0m\u001b[0m\n",
            "\u001b[0;31mJSONDecodeError\u001b[0m: Expecting value: line 1 column 1 (char 0)"
          ]
        }
      ]
    }
  ]
}