{
  "nbformat": 4,
  "nbformat_minor": 0,
  "metadata": {
    "colab": {
      "provenance": [],
      "authorship_tag": "ABX9TyMdUMK1nk6fulWTLWeuNRVI",
      "include_colab_link": true
    },
    "kernelspec": {
      "name": "python3",
      "display_name": "Python 3"
    },
    "language_info": {
      "name": "python"
    }
  },
  "cells": [
    {
      "cell_type": "markdown",
      "metadata": {
        "id": "view-in-github",
        "colab_type": "text"
      },
      "source": [
        "<a href=\"https://colab.research.google.com/github/vanshuwjoshi/GoogleGemini-Testing/blob/main/GeminiAPI_Testing.ipynb\" target=\"_parent\"><img src=\"https://colab.research.google.com/assets/colab-badge.svg\" alt=\"Open In Colab\"/></a>"
      ]
    },
    {
      "cell_type": "code",
      "execution_count": null,
      "metadata": {
        "colab": {
          "base_uri": "https://localhost:8080/"
        },
        "id": "fqQ9OvsmREhw",
        "outputId": "af159570-c4fe-46df-adef-a4cb3d57412d"
      },
      "outputs": [
        {
          "output_type": "stream",
          "name": "stdout",
          "text": [
            "\u001b[?25l     \u001b[90m━━━━━━━━━━━━━━━━━━━━━━━━━━━━━━━━━━━━━━━━\u001b[0m \u001b[32m0.0/137.4 kB\u001b[0m \u001b[31m?\u001b[0m eta \u001b[36m-:--:--\u001b[0m\r\u001b[2K     \u001b[91m━━━━━━━━━━━━━━━━━━━━━━━━━━━━━━━━\u001b[0m\u001b[91m╸\u001b[0m\u001b[90m━━━━━━━\u001b[0m \u001b[32m112.6/137.4 kB\u001b[0m \u001b[31m3.2 MB/s\u001b[0m eta \u001b[36m0:00:01\u001b[0m\r\u001b[2K     \u001b[90m━━━━━━━━━━━━━━━━━━━━━━━━━━━━━━━━━━━━━━━━\u001b[0m \u001b[32m137.4/137.4 kB\u001b[0m \u001b[31m2.3 MB/s\u001b[0m eta \u001b[36m0:00:00\u001b[0m\n",
            "\u001b[?25h"
          ]
        }
      ],
      "source": [
        "!pip install -q -U google-generativeai"
      ]
    },
    {
      "cell_type": "code",
      "source": [
        "import pathlib ## This module offers classes representing filesystem paths\n",
        "import textwrap ## Wraps the single paragraph in text (a string)\n",
        "## so every line is at most width characters long\n",
        "\n",
        "import google.generativeai as genai\n",
        "\n",
        "from IPython.display import display\n",
        "from IPython.display import Markdown\n",
        "\n",
        "def to_markdown(text):\n",
        "  text = text.replace('•', '  *')\n",
        "  return Markdown(textwrap.indent(text, '> ', predicate=lambda _: True))"
      ],
      "metadata": {
        "id": "o8pQdIzcRieR"
      },
      "execution_count": null,
      "outputs": []
    },
    {
      "cell_type": "code",
      "source": [
        "# Used to securely store your API key\n",
        "from google.colab import userdata"
      ],
      "metadata": {
        "id": "Xj0YClmlRinC"
      },
      "execution_count": null,
      "outputs": []
    },
    {
      "cell_type": "code",
      "source": [
        "GOOGLE_API_KEY = userdata.get('GOOGLE_API_KEY')\n",
        "genai.configure(api_key=GOOGLE_API_KEY)"
      ],
      "metadata": {
        "id": "2m--nTThRip3"
      },
      "execution_count": null,
      "outputs": []
    },
    {
      "cell_type": "markdown",
      "source": [
        "Now we can call the Gemini model"
      ],
      "metadata": {
        "id": "-zjyRqlWTGZY"
      }
    },
    {
      "cell_type": "code",
      "source": [
        "model = genai.GenerativeModel('gemini-pro')"
      ],
      "metadata": {
        "id": "yyqMMpB7Ris6"
      },
      "execution_count": null,
      "outputs": []
    },
    {
      "cell_type": "code",
      "source": [
        "response = model.generate_content(\"What is the meaning of Black Hole?\")"
      ],
      "metadata": {
        "id": "41_F-z8rRiv5"
      },
      "execution_count": null,
      "outputs": []
    },
    {
      "cell_type": "code",
      "source": [
        "to_markdown(response.text)"
      ],
      "metadata": {
        "colab": {
          "base_uri": "https://localhost:8080/",
          "height": 219
        },
        "id": "_KgFxddMRiy3",
        "outputId": "da65d21a-0e23-4fd2-ab8c-1fca91c58e9c"
      },
      "execution_count": null,
      "outputs": [
        {
          "output_type": "execute_result",
          "data": {
            "text/plain": [
              "<IPython.core.display.Markdown object>"
            ],
            "text/markdown": "> A black hole is a region of spacetime exhibiting such strong gravitational effects that nothing, not even light, can escape. The theory of general relativity predicts that a sufficiently compact mass can deform spacetime to form a black hole. The boundary of no escape is called the event horizon. Anything that passes the event horizon, including light, can never escape the black hole.\n> \n> Black holes are formed when a star collapses at the end of its life. If the star is massive enough, the gravitational pull will become so strong that the star will collapse into a black hole. The more massive the black hole, the stronger its gravitational pull will be.\n> \n> Black holes cannot be directly observed, but their presence can be inferred from their effects on the surrounding matter. For example, black holes can cause stars to orbit them in a peculiar way, and they can also emit radiation called Hawking radiation.\n> \n> Black holes are one of the most fascinating and mysterious objects in the universe. They are a testament to the power of gravity and the strangeness of quantum mechanics."
          },
          "metadata": {},
          "execution_count": 7
        }
      ]
    },
    {
      "cell_type": "code",
      "source": [
        "response"
      ],
      "metadata": {
        "colab": {
          "base_uri": "https://localhost:8080/"
        },
        "id": "7a-sNeZSRi1x",
        "outputId": "8509e891-e114-44b3-e20b-3024ec470ff2"
      },
      "execution_count": null,
      "outputs": [
        {
          "output_type": "execute_result",
          "data": {
            "text/plain": [
              "response:\n",
              "GenerateContentResponse(\n",
              "    done=True,\n",
              "    iterator=None,\n",
              "    result=glm.GenerateContentResponse({'candidates': [{'content': {'parts': [{'text': 'A black hole is a region of spacetime exhibiting such strong gravitational effects that nothing, not even light, can escape. The theory of general relativity predicts that a sufficiently compact mass can deform spacetime to form a black hole. The boundary of no escape is called the event horizon. Anything that passes the event horizon, including light, can never escape the black hole.\\n\\nBlack holes are formed when a star collapses at the end of its life. If the star is massive enough, the gravitational pull will become so strong that the star will collapse into a black hole. The more massive the black hole, the stronger its gravitational pull will be.\\n\\nBlack holes cannot be directly observed, but their presence can be inferred from their effects on the surrounding matter. For example, black holes can cause stars to orbit them in a peculiar way, and they can also emit radiation called Hawking radiation.\\n\\nBlack holes are one of the most fascinating and mysterious objects in the universe. They are a testament to the power of gravity and the strangeness of quantum mechanics.'}], 'role': 'model'}, 'finish_reason': 1, 'index': 0, 'safety_ratings': [{'category': 9, 'probability': 1, 'blocked': False}, {'category': 8, 'probability': 1, 'blocked': False}, {'category': 7, 'probability': 1, 'blocked': False}, {'category': 10, 'probability': 1, 'blocked': False}], 'citation_metadata': {'citation_sources': [{'start_index': 0, 'end_index': 125, 'uri': 'https://digitaldealer.com/latest-news/black-hole-marketing-data/', 'license_': ''}, {'start_index': 125, 'end_index': 295, 'uri': 'https://en.wikipedia.org/wiki/Black_hole', 'license_': ''}]}, 'token_count': 0, 'grounding_attributions': []}], 'prompt_feedback': {'safety_ratings': [{'category': 9, 'probability': 1, 'blocked': False}, {'category': 8, 'probability': 1, 'blocked': False}, {'category': 7, 'probability': 1, 'blocked': False}, {'category': 10, 'probability': 1, 'blocked': False}], 'block_reason': 0}}),\n",
              ")"
            ]
          },
          "metadata": {},
          "execution_count": 8
        }
      ]
    },
    {
      "cell_type": "code",
      "source": [
        "response.candidates"
      ],
      "metadata": {
        "colab": {
          "base_uri": "https://localhost:8080/"
        },
        "id": "Sr6IBCI9Ri45",
        "outputId": "fc73dd04-beb9-441b-d51a-ed8c1fbd356f"
      },
      "execution_count": null,
      "outputs": [
        {
          "output_type": "execute_result",
          "data": {
            "text/plain": [
              "[content {\n",
              "  parts {\n",
              "    text: \"A black hole is a region of spacetime exhibiting such strong gravitational effects that nothing, not even light, can escape. The theory of general relativity predicts that a sufficiently compact mass can deform spacetime to form a black hole. The boundary of no escape is called the event horizon. Anything that passes the event horizon, including light, can never escape the black hole.\\n\\nBlack holes are formed when a star collapses at the end of its life. If the star is massive enough, the gravitational pull will become so strong that the star will collapse into a black hole. The more massive the black hole, the stronger its gravitational pull will be.\\n\\nBlack holes cannot be directly observed, but their presence can be inferred from their effects on the surrounding matter. For example, black holes can cause stars to orbit them in a peculiar way, and they can also emit radiation called Hawking radiation.\\n\\nBlack holes are one of the most fascinating and mysterious objects in the universe. They are a testament to the power of gravity and the strangeness of quantum mechanics.\"\n",
              "  }\n",
              "  role: \"model\"\n",
              "}\n",
              "finish_reason: STOP\n",
              "index: 0\n",
              "safety_ratings {\n",
              "  category: HARM_CATEGORY_SEXUALLY_EXPLICIT\n",
              "  probability: NEGLIGIBLE\n",
              "}\n",
              "safety_ratings {\n",
              "  category: HARM_CATEGORY_HATE_SPEECH\n",
              "  probability: NEGLIGIBLE\n",
              "}\n",
              "safety_ratings {\n",
              "  category: HARM_CATEGORY_HARASSMENT\n",
              "  probability: NEGLIGIBLE\n",
              "}\n",
              "safety_ratings {\n",
              "  category: HARM_CATEGORY_DANGEROUS_CONTENT\n",
              "  probability: NEGLIGIBLE\n",
              "}\n",
              "citation_metadata {\n",
              "  citation_sources {\n",
              "    start_index: 0\n",
              "    end_index: 125\n",
              "    uri: \"https://digitaldealer.com/latest-news/black-hole-marketing-data/\"\n",
              "    license_: \"\"\n",
              "  }\n",
              "  citation_sources {\n",
              "    start_index: 125\n",
              "    end_index: 295\n",
              "    uri: \"https://en.wikipedia.org/wiki/Black_hole\"\n",
              "    license_: \"\"\n",
              "  }\n",
              "}\n",
              "]"
            ]
          },
          "metadata": {},
          "execution_count": 9
        }
      ]
    },
    {
      "cell_type": "code",
      "source": [
        "def getInputString(age, calories, dietry_restrictions):\n",
        "  return f\"I am a {age} old person. I want to eat {calories} calories a day. I am a {dietry_restrictions}. Can you give me a 7 day meal plan?\".format(age, calories, dietry_restrictions)"
      ],
      "metadata": {
        "id": "w8yIiHHNRi7w"
      },
      "execution_count": null,
      "outputs": []
    },
    {
      "cell_type": "code",
      "source": [
        "input = getInputString(23, 3000, \"vegetarian\")\n",
        "to_markdown(input)"
      ],
      "metadata": {
        "colab": {
          "base_uri": "https://localhost:8080/",
          "height": 62
        },
        "id": "N54NQyPmRi-f",
        "outputId": "5ec4eb1d-7b5b-4b2e-a59f-aebe6035a5ad"
      },
      "execution_count": null,
      "outputs": [
        {
          "output_type": "execute_result",
          "data": {
            "text/plain": [
              "<IPython.core.display.Markdown object>"
            ],
            "text/markdown": "> I am a 23 old person. I want to eat 3000 calories a day. I am a vegetarian. Can you give me a 7 day meal plan?"
          },
          "metadata": {},
          "execution_count": 15
        }
      ]
    },
    {
      "cell_type": "code",
      "source": [
        "response = model.generate_content(input)"
      ],
      "metadata": {
        "id": "lwVJDHd0RjBH"
      },
      "execution_count": null,
      "outputs": []
    },
    {
      "cell_type": "code",
      "source": [
        "to_markdown(response.text)"
      ],
      "metadata": {
        "colab": {
          "base_uri": "https://localhost:8080/",
          "height": 847
        },
        "id": "18TcGx_HWGq7",
        "outputId": "6fc7bd1e-1a54-4293-d10e-9d5b75b37446"
      },
      "execution_count": null,
      "outputs": [
        {
          "output_type": "execute_result",
          "data": {
            "text/plain": [
              "<IPython.core.display.Markdown object>"
            ],
            "text/markdown": "> **Day 1**\n> \n> * Breakfast: Oatmeal with berries, nuts, and seeds (500 calories)\n> * Lunch: Black bean and corn tacos with brown rice (700 calories)\n> * Dinner: Vegetarian chili with cornbread (800 calories)\n> * Snacks: Apple with peanut butter (200 calories), trail mix (200 calories)\n> \n> **Day 2**\n> \n> * Breakfast: Tofu scramble with vegetables (450 calories)\n> * Lunch: Lentil soup with whole-wheat bread (600 calories)\n> * Dinner: Vegetarian lasagna with side salad (850 calories)\n> * Snacks: Banana with almond butter (200 calories), hummus with vegetables (150 calories)\n> \n> **Day 3**\n> \n> * Breakfast: Whole-wheat pancakes with fruit syrup (550 calories)\n> * Lunch: Vegetarian sushi with edamame (750 calories)\n> * Dinner: Vegetable stir-fry with brown rice (700 calories)\n> * Snacks: Trail mix (200 calories), fruit smoothie (250 calories)\n> \n> **Day 4**\n> \n> * Breakfast: Smoothie made with fruit, yogurt, and spinach (400 calories)\n> * Lunch: Salad with grilled tofu, quinoa, and vegetables (650 calories)\n> * Dinner: Vegetarian burgers with sweet potato fries (800 calories)\n> * Snacks: Apple with peanut butter (200 calories), rice cakes with hummus (150 calories)\n> \n> **Day 5**\n> \n> * Breakfast: Whole-wheat toast with avocado and eggs (500 calories)\n> * Lunch: Bean and cheese burrito with brown rice (700 calories)\n> * Dinner: Vegetarian shepherd's pie (800 calories)\n> * Snacks: Dried fruit and nuts (200 calories), popcorn (150 calories)\n> \n> **Day 6**\n> \n> * Breakfast: Oatmeal with applesauce and cinnamon (450 calories)\n> * Lunch: Lentil salad with vegetables and quinoa (650 calories)\n> * Dinner: Vegetable and bean curry with naan (750 calories)\n> * Snacks: Banana with almond butter (200 calories), trail mix (200 calories)\n> \n> **Day 7**\n> \n> * Breakfast: Tofu scramble with vegetables (400 calories)\n> * Lunch: Vegetarian pizza with whole-wheat crust (700 calories)\n> * Dinner: Vegetarian tacos with brown rice (800 calories)\n> * Snacks: Apple with peanut butter (200 calories), fruit smoothie (250 calories)\n> \n> **Additional Notes:**\n> \n> * This plan provides approximately 3000 calories per day.\n> * Choose a variety of foods from all food groups to ensure adequate nutrient intake.\n> * Focus on whole, unprocessed foods as much as possible.\n> * Stay hydrated by drinking plenty of water throughout the day.\n> * If you have any underlying health conditions, consult with your doctor before making any drastic changes to your diet."
          },
          "metadata": {},
          "execution_count": 18
        }
      ]
    },
    {
      "cell_type": "code",
      "source": [
        "print(response.candidates[0].content.parts[0].text)"
      ],
      "metadata": {
        "colab": {
          "base_uri": "https://localhost:8080/"
        },
        "id": "QbU2iwaUWYys",
        "outputId": "a7605c53-00c5-4c4e-8f30-065c7e556ad5"
      },
      "execution_count": null,
      "outputs": [
        {
          "output_type": "stream",
          "name": "stdout",
          "text": [
            "**Day 1**\n",
            "\n",
            "* Breakfast: Oatmeal with berries, nuts, and seeds (500 calories)\n",
            "* Lunch: Black bean and corn tacos with brown rice (700 calories)\n",
            "* Dinner: Vegetarian chili with cornbread (800 calories)\n",
            "* Snacks: Apple with peanut butter (200 calories), trail mix (200 calories)\n",
            "\n",
            "**Day 2**\n",
            "\n",
            "* Breakfast: Tofu scramble with vegetables (450 calories)\n",
            "* Lunch: Lentil soup with whole-wheat bread (600 calories)\n",
            "* Dinner: Vegetarian lasagna with side salad (850 calories)\n",
            "* Snacks: Banana with almond butter (200 calories), hummus with vegetables (150 calories)\n",
            "\n",
            "**Day 3**\n",
            "\n",
            "* Breakfast: Whole-wheat pancakes with fruit syrup (550 calories)\n",
            "* Lunch: Vegetarian sushi with edamame (750 calories)\n",
            "* Dinner: Vegetable stir-fry with brown rice (700 calories)\n",
            "* Snacks: Trail mix (200 calories), fruit smoothie (250 calories)\n",
            "\n",
            "**Day 4**\n",
            "\n",
            "* Breakfast: Smoothie made with fruit, yogurt, and spinach (400 calories)\n",
            "* Lunch: Salad with grilled tofu, quinoa, and vegetables (650 calories)\n",
            "* Dinner: Vegetarian burgers with sweet potato fries (800 calories)\n",
            "* Snacks: Apple with peanut butter (200 calories), rice cakes with hummus (150 calories)\n",
            "\n",
            "**Day 5**\n",
            "\n",
            "* Breakfast: Whole-wheat toast with avocado and eggs (500 calories)\n",
            "* Lunch: Bean and cheese burrito with brown rice (700 calories)\n",
            "* Dinner: Vegetarian shepherd's pie (800 calories)\n",
            "* Snacks: Dried fruit and nuts (200 calories), popcorn (150 calories)\n",
            "\n",
            "**Day 6**\n",
            "\n",
            "* Breakfast: Oatmeal with applesauce and cinnamon (450 calories)\n",
            "* Lunch: Lentil salad with vegetables and quinoa (650 calories)\n",
            "* Dinner: Vegetable and bean curry with naan (750 calories)\n",
            "* Snacks: Banana with almond butter (200 calories), trail mix (200 calories)\n",
            "\n",
            "**Day 7**\n",
            "\n",
            "* Breakfast: Tofu scramble with vegetables (400 calories)\n",
            "* Lunch: Vegetarian pizza with whole-wheat crust (700 calories)\n",
            "* Dinner: Vegetarian tacos with brown rice (800 calories)\n",
            "* Snacks: Apple with peanut butter (200 calories), fruit smoothie (250 calories)\n",
            "\n",
            "**Additional Notes:**\n",
            "\n",
            "* This plan provides approximately 3000 calories per day.\n",
            "* Choose a variety of foods from all food groups to ensure adequate nutrient intake.\n",
            "* Focus on whole, unprocessed foods as much as possible.\n",
            "* Stay hydrated by drinking plenty of water throughout the day.\n",
            "* If you have any underlying health conditions, consult with your doctor before making any drastic changes to your diet.\n"
          ]
        }
      ]
    },
    {
      "cell_type": "code",
      "source": [
        "input+\" Can you give the response in JSON format?\""
      ],
      "metadata": {
        "colab": {
          "base_uri": "https://localhost:8080/",
          "height": 36
        },
        "id": "4f-VTgBXYQAG",
        "outputId": "06bf5ca6-bd36-42a4-c943-cfbd85b727f4"
      },
      "execution_count": null,
      "outputs": [
        {
          "output_type": "execute_result",
          "data": {
            "text/plain": [
              "'I am a 23 old person. I want to eat 3000 calories a day. I am a vegetarian. Can you give me a 7 day meal plan? Can you give the response in JSON format?'"
            ],
            "application/vnd.google.colaboratory.intrinsic+json": {
              "type": "string"
            }
          },
          "metadata": {},
          "execution_count": 29
        }
      ]
    },
    {
      "cell_type": "code",
      "source": [
        "response_1 = model.generate_content(input+\" Can you give the response in JSON format?\")"
      ],
      "metadata": {
        "id": "cewU2uRlYZDW"
      },
      "execution_count": null,
      "outputs": []
    },
    {
      "cell_type": "code",
      "source": [
        "print(response_1.candidates[0].content.parts[0].text)"
      ],
      "metadata": {
        "colab": {
          "base_uri": "https://localhost:8080/"
        },
        "id": "6Juzlp0_YhUP",
        "outputId": "25bea491-f628-4604-c401-d2ddcb5340e0"
      },
      "execution_count": null,
      "outputs": [
        {
          "output_type": "stream",
          "name": "stdout",
          "text": [
            "```json\n",
            "{\n",
            "  \"meal_plan\": [\n",
            "    {\n",
            "      \"day\": \"Monday\",\n",
            "      \"meals\": [\n",
            "        {\n",
            "          \"meal_type\": \"Breakfast\",\n",
            "          \"food_items\": [\n",
            "            {\n",
            "              \"food_name\": \"Oatmeal\",\n",
            "              \"serving_size\": \"1 cup\",\n",
            "              \"calories\": 300\n",
            "            },\n",
            "            {\n",
            "              \"food_name\": \"Berries\",\n",
            "              \"serving_size\": \"1/2 cup\",\n",
            "              \"calories\": 100\n",
            "            },\n",
            "            {\n",
            "              \"food_name\": \"Nuts\",\n",
            "              \"serving_size\": \"1/4 cup\",\n",
            "              \"calories\": 200\n",
            "            }\n",
            "          ]\n",
            "        },\n",
            "        {\n",
            "          \"meal_type\": \"Lunch\",\n",
            "          \"food_items\": [\n",
            "            {\n",
            "              \"food_name\": \"Lentil soup\",\n",
            "              \"serving_size\": \"2 cups\",\n",
            "              \"calories\": 400\n",
            "            },\n",
            "            {\n",
            "              \"food_name\": \"Whole-wheat bread\",\n",
            "              \"serving_size\": \"2 slices\",\n",
            "              \"calories\": 200\n",
            "            },\n",
            "            {\n",
            "              \"food_name\": \"Salad\",\n",
            "              \"serving_size\": \"1 cup\",\n",
            "              \"calories\": 100\n",
            "            }\n",
            "          ]\n",
            "        },\n",
            "        {\n",
            "          \"meal_type\": \"Dinner\",\n",
            "          \"food_items\": [\n",
            "            {\n",
            "              \"food_name\": \"Chana masala\",\n",
            "              \"serving_size\": \"1 cup\",\n",
            "              \"calories\": 500\n",
            "            },\n",
            "            {\n",
            "              \"food_name\": \"Brown rice\",\n",
            "              \"serving_size\": \"1 cup\",\n",
            "              \"calories\": 200\n",
            "            },\n",
            "            {\n",
            "              \"food_name\": \"Vegetables\",\n",
            "              \"serving_size\": \"1 cup\",\n",
            "              \"calories\": 100\n",
            "            }\n",
            "          ]\n",
            "        }\n",
            "      ]\n",
            "    },\n",
            "    {\n",
            "      \"day\": \"Tuesday\",\n",
            "      \"meals\": [\n",
            "        {\n",
            "          \"meal_type\": \"Breakfast\",\n",
            "          \"food_items\": [\n",
            "            {\n",
            "              \"food_name\": \"Yogurt\",\n",
            "              \"serving_size\": \"1 cup\",\n",
            "              \"calories\": 200\n",
            "            },\n",
            "            {\n",
            "              \"food_name\": \"Fruit\",\n",
            "              \"serving_size\": \"1 cup\",\n",
            "              \"calories\": 100\n",
            "            },\n",
            "            {\n",
            "              \"food_name\": \"Granola\",\n",
            "              \"serving_size\": \"1/2 cup\",\n",
            "              \"calories\": 200\n",
            "            }\n",
            "          ]\n",
            "        },\n",
            "        {\n",
            "          \"meal_type\": \"Lunch\",\n",
            "          \"food_items\": [\n",
            "            {\n",
            "              \"food_name\": \"Sandwich\",\n",
            "              \"serving_size\": \"1 sandwich\",\n",
            "              \"calories\": 400\n",
            "            },\n",
            "            {\n",
            "              \"food_name\": \"Chips\",\n",
            "              \"serving_size\": \"1 oz\",\n",
            "              \"calories\": 150\n",
            "            },\n",
            "            {\n",
            "              \"food_name\": \"Fruit\",\n",
            "              \"serving_size\": \"1/2 cup\",\n",
            "              \"calories\": 100\n",
            "            }\n",
            "          ]\n",
            "        },\n",
            "        {\n",
            "          \"meal_type\": \"Dinner\",\n",
            "          \"food_items\": [\n",
            "            {\n",
            "              \"food_name\": \"Pasta\",\n",
            "              \"serving_size\": \"1 cup\",\n",
            "              \"calories\": 400\n",
            "            },\n",
            "            {\n",
            "              \"food_name\": \"Tomato sauce\",\n",
            "              \"serving_size\": \"1 cup\",\n",
            "              \"calories\": 100\n",
            "            },\n",
            "            {\n",
            "              \"food_name\": \"Vegetables\",\n",
            "              \"serving_size\": \"1 cup\",\n",
            "              \"calories\": 100\n",
            "            }\n",
            "          ]\n",
            "        }\n",
            "      ]\n",
            "    },\n",
            "    {\n",
            "      \"day\": \"Wednesday\",\n",
            "      \"meals\": [\n",
            "        {\n",
            "          \"meal_type\": \"Breakfast\",\n",
            "          \"food_items\": [\n",
            "            {\n",
            "              \"food_name\": \"Scrambled eggs\",\n",
            "              \"serving_size\": \"2 eggs\",\n",
            "              \"calories\": 200\n",
            "            },\n",
            "            {\n",
            "              \"food_name\": \"Whole-wheat toast\",\n",
            "              \"serving_size\": \"2 slices\",\n",
            "              \"calories\": 200\n",
            "            },\n",
            "            {\n",
            "              \"food_name\": \"Avocado\",\n",
            "              \"serving_size\": \"1/2 avocado\",\n",
            "              \"calories\": 150\n",
            "            }\n",
            "          ]\n",
            "        },\n",
            "        {\n",
            "          \"meal_type\": \"Lunch\",\n",
            "          \"food_items\": [\n",
            "            {\n",
            "              \"food_name\": \"Salad\",\n",
            "              \"serving_size\": \"1 cup\",\n",
            "              \"calories\": 100\n",
            "            },\n",
            "            {\n",
            "              \"food_name\": \"Grilled chicken\",\n",
            "              \"serving_size\": \"4 oz\",\n",
            "              \"calories\": 250\n",
            "            },\n",
            "            {\n",
            "              \"food_name\": \"Fruit\",\n",
            "              \"serving_size\": \"1/2 cup\",\n",
            "              \"calories\": 100\n",
            "            }\n",
            "          ]\n",
            "        },\n",
            "        {\n",
            "          \"meal_type\": \"Dinner\",\n",
            "          \"food_items\": [\n",
            "            {\n",
            "              \"food_name\": \"Stir-fry\",\n",
            "              \"serving_size\": \"1 cup\",\n",
            "              \"calories\n"
          ]
        }
      ]
    },
    {
      "cell_type": "code",
      "source": [
        "type(response_1.candidates[0].content.parts[0].text)"
      ],
      "metadata": {
        "colab": {
          "base_uri": "https://localhost:8080/"
        },
        "id": "vPA2uHiCY-XB",
        "outputId": "13a609a2-0638-4f3c-86f8-57ac2d42f194"
      },
      "execution_count": null,
      "outputs": [
        {
          "output_type": "execute_result",
          "data": {
            "text/plain": [
              "str"
            ]
          },
          "metadata": {},
          "execution_count": 38
        }
      ]
    },
    {
      "cell_type": "code",
      "source": [
        "response_1.candidates[0].content.parts[0].text"
      ],
      "metadata": {
        "colab": {
          "base_uri": "https://localhost:8080/",
          "height": 419
        },
        "id": "uRaEma7AY-Uh",
        "outputId": "c974038b-2332-43bc-a1fc-c385f8a99422"
      },
      "execution_count": null,
      "outputs": [
        {
          "output_type": "execute_result",
          "data": {
            "text/plain": [
              "'```json\\n{\\n  \"meal_plan\": [\\n    {\\n      \"day\": \"Monday\",\\n      \"meals\": [\\n        {\\n          \"meal_type\": \"Breakfast\",\\n          \"food_items\": [\\n            {\\n              \"food_name\": \"Oatmeal\",\\n              \"serving_size\": \"1 cup\",\\n              \"calories\": 300\\n            },\\n            {\\n              \"food_name\": \"Berries\",\\n              \"serving_size\": \"1/2 cup\",\\n              \"calories\": 100\\n            },\\n            {\\n              \"food_name\": \"Nuts\",\\n              \"serving_size\": \"1/4 cup\",\\n              \"calories\": 200\\n            }\\n          ]\\n        },\\n        {\\n          \"meal_type\": \"Lunch\",\\n          \"food_items\": [\\n            {\\n              \"food_name\": \"Lentil soup\",\\n              \"serving_size\": \"2 cups\",\\n              \"calories\": 400\\n            },\\n            {\\n              \"food_name\": \"Whole-wheat bread\",\\n              \"serving_size\": \"2 slices\",\\n              \"calories\": 200\\n            },\\n            {\\n              \"food_name\": \"Salad\",\\n              \"serving_size\": \"1 cup\",\\n              \"calories\": 100\\n            }\\n          ]\\n        },\\n        {\\n          \"meal_type\": \"Dinner\",\\n          \"food_items\": [\\n            {\\n              \"food_name\": \"Chana masala\",\\n              \"serving_size\": \"1 cup\",\\n              \"calories\": 500\\n            },\\n            {\\n              \"food_name\": \"Brown rice\",\\n              \"serving_size\": \"1 cup\",\\n              \"calories\": 200\\n            },\\n            {\\n              \"food_name\": \"Vegetables\",\\n              \"serving_size\": \"1 cup\",\\n              \"calories\": 100\\n            }\\n          ]\\n        }\\n      ]\\n    },\\n    {\\n      \"day\": \"Tuesday\",\\n      \"meals\": [\\n        {\\n          \"meal_type\": \"Breakfast\",\\n          \"food_items\": [\\n            {\\n              \"food_name\": \"Yogurt\",\\n              \"serving_size\": \"1 cup\",\\n              \"calories\": 200\\n            },\\n            {\\n              \"food_name\": \"Fruit\",\\n              \"serving_size\": \"1 cup\",\\n              \"calories\": 100\\n            },\\n            {\\n              \"food_name\": \"Granola\",\\n              \"serving_size\": \"1/2 cup\",\\n              \"calories\": 200\\n            }\\n          ]\\n        },\\n        {\\n          \"meal_type\": \"Lunch\",\\n          \"food_items\": [\\n            {\\n              \"food_name\": \"Sandwich\",\\n              \"serving_size\": \"1 sandwich\",\\n              \"calories\": 400\\n            },\\n            {\\n              \"food_name\": \"Chips\",\\n              \"serving_size\": \"1 oz\",\\n              \"calories\": 150\\n            },\\n            {\\n              \"food_name\": \"Fruit\",\\n              \"serving_size\": \"1/2 cup\",\\n              \"calories\": 100\\n            }\\n          ]\\n        },\\n        {\\n          \"meal_type\": \"Dinner\",\\n          \"food_items\": [\\n            {\\n              \"food_name\": \"Pasta\",\\n              \"serving_size\": \"1 cup\",\\n              \"calories\": 400\\n            },\\n            {\\n              \"food_name\": \"Tomato sauce\",\\n              \"serving_size\": \"1 cup\",\\n              \"calories\": 100\\n            },\\n            {\\n              \"food_name\": \"Vegetables\",\\n              \"serving_size\": \"1 cup\",\\n              \"calories\": 100\\n            }\\n          ]\\n        }\\n      ]\\n    },\\n    {\\n      \"day\": \"Wednesday\",\\n      \"meals\": [\\n        {\\n          \"meal_type\": \"Breakfast\",\\n          \"food_items\": [\\n            {\\n              \"food_name\": \"Scrambled eggs\",\\n              \"serving_size\": \"2 eggs\",\\n              \"calories\": 200\\n            },\\n            {\\n              \"food_name\": \"Whole-wheat toast\",\\n              \"serving_size\": \"2 slices\",\\n              \"calories\": 200\\n            },\\n            {\\n              \"food_name\": \"Avocado\",\\n              \"serving_size\": \"1/2 avocado\",\\n              \"calories\": 150\\n            }\\n          ]\\n        },\\n        {\\n          \"meal_type\": \"Lunch\",\\n          \"food_items\": [\\n            {\\n              \"food_name\": \"Salad\",\\n              \"serving_size\": \"1 cup\",\\n              \"calories\": 100\\n            },\\n            {\\n              \"food_name\": \"Grilled chicken\",\\n              \"serving_size\": \"4 oz\",\\n              \"calories\": 250\\n            },\\n            {\\n              \"food_name\": \"Fruit\",\\n              \"serving_size\": \"1/2 cup\",\\n              \"calories\": 100\\n            }\\n          ]\\n        },\\n        {\\n          \"meal_type\": \"Dinner\",\\n          \"food_items\": [\\n            {\\n              \"food_name\": \"Stir-fry\",\\n              \"serving_size\": \"1 cup\",\\n              \"calories'"
            ],
            "application/vnd.google.colaboratory.intrinsic+json": {
              "type": "string"
            }
          },
          "metadata": {},
          "execution_count": 39
        }
      ]
    },
    {
      "cell_type": "code",
      "source": [],
      "metadata": {
        "id": "iVwfD93TY-LJ"
      },
      "execution_count": null,
      "outputs": []
    },
    {
      "cell_type": "code",
      "source": [],
      "metadata": {
        "id": "SRVgMsYVY-IY"
      },
      "execution_count": null,
      "outputs": []
    }
  ]
}