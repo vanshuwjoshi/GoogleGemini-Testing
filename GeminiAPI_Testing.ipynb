{
  "nbformat": 4,
  "nbformat_minor": 0,
  "metadata": {
    "colab": {
      "provenance": [],
      "authorship_tag": "ABX9TyPW2MH52L9dP/ZflmpdN1Dt",
      "include_colab_link": true
    },
    "kernelspec": {
      "name": "python3",
      "display_name": "Python 3"
    },
    "language_info": {
      "name": "python"
    }
  },
  "cells": [
    {
      "cell_type": "markdown",
      "metadata": {
        "id": "view-in-github",
        "colab_type": "text"
      },
      "source": [
        "<a href=\"https://colab.research.google.com/github/vanshuwjoshi/GoogleGemini-Testing/blob/main/GeminiAPI_Testing.ipynb\" target=\"_parent\"><img src=\"https://colab.research.google.com/assets/colab-badge.svg\" alt=\"Open In Colab\"/></a>"
      ]
    },
    {
      "cell_type": "code",
      "execution_count": 1,
      "metadata": {
        "id": "fqQ9OvsmREhw"
      },
      "outputs": [],
      "source": [
        "!pip install -q -U google-generativeai"
      ]
    },
    {
      "cell_type": "code",
      "source": [
        "import pathlib ## This module offers classes representing filesystem paths\n",
        "import textwrap ## Wraps the single paragraph in text (a string)\n",
        "## so every line is at most width characters long\n",
        "\n",
        "import google.generativeai as genai\n",
        "\n",
        "from IPython.display import display\n",
        "from IPython.display import Markdown\n",
        "\n",
        "def to_markdown(text):\n",
        "  text = text.replace('•', '  *')\n",
        "  return Markdown(textwrap.indent(text, '> ', predicate=lambda _: True))"
      ],
      "metadata": {
        "id": "o8pQdIzcRieR"
      },
      "execution_count": 2,
      "outputs": []
    },
    {
      "cell_type": "code",
      "source": [
        "# Used to securely store your API key\n",
        "from google.colab import userdata"
      ],
      "metadata": {
        "id": "Xj0YClmlRinC"
      },
      "execution_count": 3,
      "outputs": []
    },
    {
      "cell_type": "code",
      "source": [
        "GOOGLE_API_KEY = userdata.get('GOOGLE_API_KEY')\n",
        "genai.configure(api_key=GOOGLE_API_KEY)"
      ],
      "metadata": {
        "id": "2m--nTThRip3"
      },
      "execution_count": 4,
      "outputs": []
    },
    {
      "cell_type": "markdown",
      "source": [
        "Now we can call the Gemini model"
      ],
      "metadata": {
        "id": "-zjyRqlWTGZY"
      }
    },
    {
      "cell_type": "code",
      "source": [
        "model = genai.GenerativeModel('gemini-pro')"
      ],
      "metadata": {
        "id": "yyqMMpB7Ris6"
      },
      "execution_count": 5,
      "outputs": []
    },
    {
      "cell_type": "code",
      "source": [
        "response = model.generate_content(\"What is the meaning of Black Hole?\")"
      ],
      "metadata": {
        "id": "41_F-z8rRiv5"
      },
      "execution_count": 6,
      "outputs": []
    },
    {
      "cell_type": "code",
      "source": [
        "to_markdown(response.text)"
      ],
      "metadata": {
        "colab": {
          "base_uri": "https://localhost:8080/",
          "height": 399
        },
        "id": "_KgFxddMRiy3",
        "outputId": "421bfee6-bc19-4c71-b2f2-085986f2d9ab"
      },
      "execution_count": 7,
      "outputs": [
        {
          "output_type": "execute_result",
          "data": {
            "text/plain": [
              "<IPython.core.display.Markdown object>"
            ],
            "text/markdown": "> **Meaning of Black Hole:**\n> \n> A black hole is a region of spacetime where gravity is so strong that nothing, not even light, can escape. It is formed when a massive star collapses at the end of its life.\n> \n> **Key Characteristics:**\n> \n> * **Event Horizon:** Boundary around the black hole where the escape velocity exceeds the speed of light.\n> * **Singularity:** Center of the black hole where the spacetime curvature becomes infinite and the laws of physics break down.\n> * **No Hair Theorem:** Black holes are characterized solely by their mass, spin, and electric charge.\n> * **Gravitational Lensing:** Black holes bend light and other forms of electromagnetic radiation around them, creating distortions in the observed images.\n> * **Hawking Radiation:** Black holes emit a faint glow due to quantum effects near the event horizon.\n> \n> **Types of Black Holes:**\n> \n> * **Stellar Black Holes:** Formed from the collapse of massive stars.\n> * **Supermassive Black Holes:** Millions to billions of times more massive than stellar black holes, found at the centers of most galaxies.\n> * **Intermediate-Mass Black Holes:** Intermediate in size between stellar and supermassive black holes.\n> \n> **Importance and Impact:**\n> \n> * Used to study the nature of gravity and the extreme limits of physics.\n> * Provide insights into the formation and evolution of galaxies.\n> * Help in understanding the properties of dark matter and dark energy."
          },
          "metadata": {},
          "execution_count": 7
        }
      ]
    },
    {
      "cell_type": "code",
      "source": [
        "response"
      ],
      "metadata": {
        "colab": {
          "base_uri": "https://localhost:8080/"
        },
        "id": "7a-sNeZSRi1x",
        "outputId": "dc102bdf-3576-4e07-b546-5888ba5118fd"
      },
      "execution_count": 8,
      "outputs": [
        {
          "output_type": "execute_result",
          "data": {
            "text/plain": [
              "response:\n",
              "GenerateContentResponse(\n",
              "    done=True,\n",
              "    iterator=None,\n",
              "    result=glm.GenerateContentResponse({'candidates': [{'content': {'parts': [{'text': '**Meaning of Black Hole:**\\n\\nA black hole is a region of spacetime where gravity is so strong that nothing, not even light, can escape. It is formed when a massive star collapses at the end of its life.\\n\\n**Key Characteristics:**\\n\\n* **Event Horizon:** Boundary around the black hole where the escape velocity exceeds the speed of light.\\n* **Singularity:** Center of the black hole where the spacetime curvature becomes infinite and the laws of physics break down.\\n* **No Hair Theorem:** Black holes are characterized solely by their mass, spin, and electric charge.\\n* **Gravitational Lensing:** Black holes bend light and other forms of electromagnetic radiation around them, creating distortions in the observed images.\\n* **Hawking Radiation:** Black holes emit a faint glow due to quantum effects near the event horizon.\\n\\n**Types of Black Holes:**\\n\\n* **Stellar Black Holes:** Formed from the collapse of massive stars.\\n* **Supermassive Black Holes:** Millions to billions of times more massive than stellar black holes, found at the centers of most galaxies.\\n* **Intermediate-Mass Black Holes:** Intermediate in size between stellar and supermassive black holes.\\n\\n**Importance and Impact:**\\n\\n* Used to study the nature of gravity and the extreme limits of physics.\\n* Provide insights into the formation and evolution of galaxies.\\n* Help in understanding the properties of dark matter and dark energy.'}], 'role': 'model'}, 'finish_reason': 1, 'index': 0, 'safety_ratings': [{'category': 9, 'probability': 1, 'blocked': False}, {'category': 8, 'probability': 1, 'blocked': False}, {'category': 7, 'probability': 1, 'blocked': False}, {'category': 10, 'probability': 1, 'blocked': False}], 'token_count': 0, 'grounding_attributions': []}]}),\n",
              ")"
            ]
          },
          "metadata": {},
          "execution_count": 8
        }
      ]
    },
    {
      "cell_type": "code",
      "source": [
        "response.candidates"
      ],
      "metadata": {
        "colab": {
          "base_uri": "https://localhost:8080/"
        },
        "id": "Sr6IBCI9Ri45",
        "outputId": "6bc1399a-283a-42eb-cc96-a556b25b373a"
      },
      "execution_count": 9,
      "outputs": [
        {
          "output_type": "execute_result",
          "data": {
            "text/plain": [
              "[content {\n",
              "  parts {\n",
              "    text: \"**Meaning of Black Hole:**\\n\\nA black hole is a region of spacetime where gravity is so strong that nothing, not even light, can escape. It is formed when a massive star collapses at the end of its life.\\n\\n**Key Characteristics:**\\n\\n* **Event Horizon:** Boundary around the black hole where the escape velocity exceeds the speed of light.\\n* **Singularity:** Center of the black hole where the spacetime curvature becomes infinite and the laws of physics break down.\\n* **No Hair Theorem:** Black holes are characterized solely by their mass, spin, and electric charge.\\n* **Gravitational Lensing:** Black holes bend light and other forms of electromagnetic radiation around them, creating distortions in the observed images.\\n* **Hawking Radiation:** Black holes emit a faint glow due to quantum effects near the event horizon.\\n\\n**Types of Black Holes:**\\n\\n* **Stellar Black Holes:** Formed from the collapse of massive stars.\\n* **Supermassive Black Holes:** Millions to billions of times more massive than stellar black holes, found at the centers of most galaxies.\\n* **Intermediate-Mass Black Holes:** Intermediate in size between stellar and supermassive black holes.\\n\\n**Importance and Impact:**\\n\\n* Used to study the nature of gravity and the extreme limits of physics.\\n* Provide insights into the formation and evolution of galaxies.\\n* Help in understanding the properties of dark matter and dark energy.\"\n",
              "  }\n",
              "  role: \"model\"\n",
              "}\n",
              "finish_reason: STOP\n",
              "index: 0\n",
              "safety_ratings {\n",
              "  category: HARM_CATEGORY_SEXUALLY_EXPLICIT\n",
              "  probability: NEGLIGIBLE\n",
              "}\n",
              "safety_ratings {\n",
              "  category: HARM_CATEGORY_HATE_SPEECH\n",
              "  probability: NEGLIGIBLE\n",
              "}\n",
              "safety_ratings {\n",
              "  category: HARM_CATEGORY_HARASSMENT\n",
              "  probability: NEGLIGIBLE\n",
              "}\n",
              "safety_ratings {\n",
              "  category: HARM_CATEGORY_DANGEROUS_CONTENT\n",
              "  probability: NEGLIGIBLE\n",
              "}\n",
              "]"
            ]
          },
          "metadata": {},
          "execution_count": 9
        }
      ]
    },
    {
      "cell_type": "code",
      "source": [
        "def getInputString(age, calories, dietry_restrictions):\n",
        "  return f\"I am a {age} old person. I want to eat {calories} calories a day. I am a {dietry_restrictions}. Can you give me a 1 day meal plan?\".format(age, calories, dietry_restrictions)"
      ],
      "metadata": {
        "id": "w8yIiHHNRi7w"
      },
      "execution_count": 10,
      "outputs": []
    },
    {
      "cell_type": "code",
      "source": [
        "input = getInputString(23, 3000, \"vegetarian\")\n",
        "to_markdown(input)"
      ],
      "metadata": {
        "colab": {
          "base_uri": "https://localhost:8080/",
          "height": 62
        },
        "id": "N54NQyPmRi-f",
        "outputId": "93c6bc1e-5fa5-4e98-ec3d-8b5d70bc75dd"
      },
      "execution_count": 11,
      "outputs": [
        {
          "output_type": "execute_result",
          "data": {
            "text/plain": [
              "<IPython.core.display.Markdown object>"
            ],
            "text/markdown": "> I am a 23 old person. I want to eat 3000 calories a day. I am a vegetarian. Can you give me a 1 day meal plan?"
          },
          "metadata": {},
          "execution_count": 11
        }
      ]
    },
    {
      "cell_type": "code",
      "source": [
        "response = model.generate_content(input)"
      ],
      "metadata": {
        "id": "lwVJDHd0RjBH"
      },
      "execution_count": 12,
      "outputs": []
    },
    {
      "cell_type": "code",
      "source": [
        "to_markdown(response.text)"
      ],
      "metadata": {
        "colab": {
          "base_uri": "https://localhost:8080/",
          "height": 522
        },
        "id": "18TcGx_HWGq7",
        "outputId": "a1e3b6db-b2be-4937-a3a6-25310da05170"
      },
      "execution_count": 13,
      "outputs": [
        {
          "output_type": "execute_result",
          "data": {
            "text/plain": [
              "<IPython.core.display.Markdown object>"
            ],
            "text/markdown": "> **Breakfast (1,200 calories)**\n> \n> * Oatmeal with 1 cup berries, 1/4 cup nuts, and 1/4 cup almond milk (500 calories)\n> * Tofu scramble with 1 cup vegetables (300 calories)\n> * Whole wheat toast with 2 tablespoons almond butter (200 calories)\n> * Banana smoothie with 1 banana, 1 cup almond milk, and 1 tablespoon peanut butter (200 calories)\n> \n> **Lunch (900 calories)**\n> \n> * Vegetarian chili with brown rice (500 calories)\n> * Lentil soup with whole wheat bread (300 calories)\n> * Sandwich with tofu, hummus, and avocado on whole wheat bread (100 calories)\n> \n> **Dinner (900 calories)**\n> \n> * Vegetarian stir-fry with 1 cup tofu, 1 cup vegetables, and 1/2 cup brown rice (500 calories)\n> * Vegetarian pasta with tomato sauce and 1 cup vegetables (300 calories)\n> * Bean and cheese burrito with whole wheat tortilla (100 calories)\n> \n> **Snacks (200 calories)**\n> \n> * 1 apple with 1 tablespoon peanut butter (100 calories)\n> * 1 cup yogurt with berries (100 calories)\n> \n> **Tips:**\n> \n> * Focus on whole, plant-based foods such as fruits, vegetables, whole grains, legumes, and nuts.\n> * Include protein sources at every meal, such as tofu, lentils, beans, and nuts.\n> * Use healthy fats from sources such as olive oil, avocado, and nuts.\n> * Stay hydrated by drinking plenty of water throughout the day.\n> * This meal plan is only an estimate and may need to be adjusted based on individual calorie needs and preferences.\n> \n> **Note:** This meal plan provides 3,000 calories, which may be appropriate for some individuals, but it is important to consult with a healthcare professional or registered dietitian to determine the appropriate calorie intake for your specific needs and goals."
          },
          "metadata": {},
          "execution_count": 13
        }
      ]
    },
    {
      "cell_type": "code",
      "source": [
        "print(response.candidates[0].content.parts[0].text)"
      ],
      "metadata": {
        "colab": {
          "base_uri": "https://localhost:8080/"
        },
        "id": "QbU2iwaUWYys",
        "outputId": "320fd712-2ab2-4d3c-ab9d-946085281a43"
      },
      "execution_count": 14,
      "outputs": [
        {
          "output_type": "stream",
          "name": "stdout",
          "text": [
            "**Breakfast (1,200 calories)**\n",
            "\n",
            "* Oatmeal with 1 cup berries, 1/4 cup nuts, and 1/4 cup almond milk (500 calories)\n",
            "* Tofu scramble with 1 cup vegetables (300 calories)\n",
            "* Whole wheat toast with 2 tablespoons almond butter (200 calories)\n",
            "* Banana smoothie with 1 banana, 1 cup almond milk, and 1 tablespoon peanut butter (200 calories)\n",
            "\n",
            "**Lunch (900 calories)**\n",
            "\n",
            "* Vegetarian chili with brown rice (500 calories)\n",
            "* Lentil soup with whole wheat bread (300 calories)\n",
            "* Sandwich with tofu, hummus, and avocado on whole wheat bread (100 calories)\n",
            "\n",
            "**Dinner (900 calories)**\n",
            "\n",
            "* Vegetarian stir-fry with 1 cup tofu, 1 cup vegetables, and 1/2 cup brown rice (500 calories)\n",
            "* Vegetarian pasta with tomato sauce and 1 cup vegetables (300 calories)\n",
            "* Bean and cheese burrito with whole wheat tortilla (100 calories)\n",
            "\n",
            "**Snacks (200 calories)**\n",
            "\n",
            "* 1 apple with 1 tablespoon peanut butter (100 calories)\n",
            "* 1 cup yogurt with berries (100 calories)\n",
            "\n",
            "**Tips:**\n",
            "\n",
            "* Focus on whole, plant-based foods such as fruits, vegetables, whole grains, legumes, and nuts.\n",
            "* Include protein sources at every meal, such as tofu, lentils, beans, and nuts.\n",
            "* Use healthy fats from sources such as olive oil, avocado, and nuts.\n",
            "* Stay hydrated by drinking plenty of water throughout the day.\n",
            "* This meal plan is only an estimate and may need to be adjusted based on individual calorie needs and preferences.\n",
            "\n",
            "**Note:** This meal plan provides 3,000 calories, which may be appropriate for some individuals, but it is important to consult with a healthcare professional or registered dietitian to determine the appropriate calorie intake for your specific needs and goals.\n"
          ]
        }
      ]
    },
    {
      "cell_type": "code",
      "source": [
        "input+\" Can you give the response in JSON format?\""
      ],
      "metadata": {
        "colab": {
          "base_uri": "https://localhost:8080/",
          "height": 36
        },
        "id": "4f-VTgBXYQAG",
        "outputId": "ae1fc89a-1e83-433c-e475-4f2a0a2fc530"
      },
      "execution_count": 15,
      "outputs": [
        {
          "output_type": "execute_result",
          "data": {
            "text/plain": [
              "'I am a 23 old person. I want to eat 3000 calories a day. I am a vegetarian. Can you give me a 1 day meal plan? Can you give the response in JSON format?'"
            ],
            "application/vnd.google.colaboratory.intrinsic+json": {
              "type": "string"
            }
          },
          "metadata": {},
          "execution_count": 15
        }
      ]
    },
    {
      "cell_type": "code",
      "source": [
        "response_1 = model.generate_content(input+\" Can you give the response in JSON format?\")"
      ],
      "metadata": {
        "id": "cewU2uRlYZDW"
      },
      "execution_count": 16,
      "outputs": []
    },
    {
      "cell_type": "code",
      "source": [
        "response_1.candidates[0].content.parts[0].text"
      ],
      "metadata": {
        "colab": {
          "base_uri": "https://localhost:8080/",
          "height": 109
        },
        "id": "6Juzlp0_YhUP",
        "outputId": "3f48c932-5a5c-44a2-d3b4-b5be076bb417"
      },
      "execution_count": 17,
      "outputs": [
        {
          "output_type": "execute_result",
          "data": {
            "text/plain": [
              "'```json\\n{\\n  \"Breakfast\": {\\n    \"Meal 1\": {\\n      \"Calories\": 500,\\n      \"Food Items\": [\\n        \"2 cups oatmeal with 1/2 cup berries (250 calories)\",\\n        \"2 slices whole-wheat toast with 1 avocado (250 calories)\"\\n      ]\\n    }\\n  },\\n  \"Lunch\": {\\n    \"Meal 2\": {\\n      \"Calories\": 700,\\n      \"Food Items\": [\\n        \"1 cup lentil soup with 1/2 cup whole-wheat bread (400 calories)\",\\n        \"1 apple with 2 tablespoons peanut butter (300 calories)\"\\n      ]\\n    }\\n  },\\n  \"Afternoon Snack\": {\\n    \"Meal 3\": {\\n      \"Calories\": 400,\\n      \"Food Items\": [\\n        \"1 banana with 1/4 cup nuts (300 calories)\",\\n        \"1 cup nonfat yogurt with berries (100 calories)\"\\n      ]\\n    }\\n  },\\n  \"Dinner\": {\\n    \"Meal 4\": {\\n      \"Calories\": 900,\\n      \"Food Items\": [\\n        \"2 cups tofu stir-fry with brown rice (600 calories)\",\\n        \"1 cup steamed broccoli (150 calories)\",\\n        \"1/2 cup quinoa (150 calories)\"\\n      ]\\n    }\\n  },\\n  \"Evening Snack\": {\\n    \"Meal 5\": {\\n      \"Calories\": 500,\\n      \"Food Items\": [\\n        \"1 cup cottage cheese with 1/2 cup fruit (300 calories)\",\\n        \"1 cup popcorn (200 calories)\"\\n      ]\\n    }\\n  }\\n}\\n```'"
            ],
            "application/vnd.google.colaboratory.intrinsic+json": {
              "type": "string"
            }
          },
          "metadata": {},
          "execution_count": 17
        }
      ]
    },
    {
      "cell_type": "code",
      "source": [
        "type(response_1.candidates[0].content.parts[0].text)"
      ],
      "metadata": {
        "colab": {
          "base_uri": "https://localhost:8080/"
        },
        "id": "vPA2uHiCY-XB",
        "outputId": "92286808-673e-4ac1-dec4-47ae573c45f1"
      },
      "execution_count": 18,
      "outputs": [
        {
          "output_type": "execute_result",
          "data": {
            "text/plain": [
              "str"
            ]
          },
          "metadata": {},
          "execution_count": 18
        }
      ]
    },
    {
      "cell_type": "code",
      "source": [
        "print(response_1.candidates[0].content.parts[0].text)"
      ],
      "metadata": {
        "colab": {
          "base_uri": "https://localhost:8080/"
        },
        "id": "uRaEma7AY-Uh",
        "outputId": "00bd59cd-795b-41ec-92b7-1f19c41b3ab5"
      },
      "execution_count": 19,
      "outputs": [
        {
          "output_type": "stream",
          "name": "stdout",
          "text": [
            "```json\n",
            "{\n",
            "  \"Breakfast\": {\n",
            "    \"Meal 1\": {\n",
            "      \"Calories\": 500,\n",
            "      \"Food Items\": [\n",
            "        \"2 cups oatmeal with 1/2 cup berries (250 calories)\",\n",
            "        \"2 slices whole-wheat toast with 1 avocado (250 calories)\"\n",
            "      ]\n",
            "    }\n",
            "  },\n",
            "  \"Lunch\": {\n",
            "    \"Meal 2\": {\n",
            "      \"Calories\": 700,\n",
            "      \"Food Items\": [\n",
            "        \"1 cup lentil soup with 1/2 cup whole-wheat bread (400 calories)\",\n",
            "        \"1 apple with 2 tablespoons peanut butter (300 calories)\"\n",
            "      ]\n",
            "    }\n",
            "  },\n",
            "  \"Afternoon Snack\": {\n",
            "    \"Meal 3\": {\n",
            "      \"Calories\": 400,\n",
            "      \"Food Items\": [\n",
            "        \"1 banana with 1/4 cup nuts (300 calories)\",\n",
            "        \"1 cup nonfat yogurt with berries (100 calories)\"\n",
            "      ]\n",
            "    }\n",
            "  },\n",
            "  \"Dinner\": {\n",
            "    \"Meal 4\": {\n",
            "      \"Calories\": 900,\n",
            "      \"Food Items\": [\n",
            "        \"2 cups tofu stir-fry with brown rice (600 calories)\",\n",
            "        \"1 cup steamed broccoli (150 calories)\",\n",
            "        \"1/2 cup quinoa (150 calories)\"\n",
            "      ]\n",
            "    }\n",
            "  },\n",
            "  \"Evening Snack\": {\n",
            "    \"Meal 5\": {\n",
            "      \"Calories\": 500,\n",
            "      \"Food Items\": [\n",
            "        \"1 cup cottage cheese with 1/2 cup fruit (300 calories)\",\n",
            "        \"1 cup popcorn (200 calories)\"\n",
            "      ]\n",
            "    }\n",
            "  }\n",
            "}\n",
            "```\n"
          ]
        }
      ]
    },
    {
      "cell_type": "code",
      "source": [
        "response_string = response_1.candidates[0].content.parts[0].text\n",
        "response_string"
      ],
      "metadata": {
        "colab": {
          "base_uri": "https://localhost:8080/",
          "height": 109
        },
        "id": "Qq1MxtovdHm-",
        "outputId": "94bf9443-773d-45f1-a701-c2956764bebc"
      },
      "execution_count": 20,
      "outputs": [
        {
          "output_type": "execute_result",
          "data": {
            "text/plain": [
              "'```json\\n{\\n  \"Breakfast\": {\\n    \"Meal 1\": {\\n      \"Calories\": 500,\\n      \"Food Items\": [\\n        \"2 cups oatmeal with 1/2 cup berries (250 calories)\",\\n        \"2 slices whole-wheat toast with 1 avocado (250 calories)\"\\n      ]\\n    }\\n  },\\n  \"Lunch\": {\\n    \"Meal 2\": {\\n      \"Calories\": 700,\\n      \"Food Items\": [\\n        \"1 cup lentil soup with 1/2 cup whole-wheat bread (400 calories)\",\\n        \"1 apple with 2 tablespoons peanut butter (300 calories)\"\\n      ]\\n    }\\n  },\\n  \"Afternoon Snack\": {\\n    \"Meal 3\": {\\n      \"Calories\": 400,\\n      \"Food Items\": [\\n        \"1 banana with 1/4 cup nuts (300 calories)\",\\n        \"1 cup nonfat yogurt with berries (100 calories)\"\\n      ]\\n    }\\n  },\\n  \"Dinner\": {\\n    \"Meal 4\": {\\n      \"Calories\": 900,\\n      \"Food Items\": [\\n        \"2 cups tofu stir-fry with brown rice (600 calories)\",\\n        \"1 cup steamed broccoli (150 calories)\",\\n        \"1/2 cup quinoa (150 calories)\"\\n      ]\\n    }\\n  },\\n  \"Evening Snack\": {\\n    \"Meal 5\": {\\n      \"Calories\": 500,\\n      \"Food Items\": [\\n        \"1 cup cottage cheese with 1/2 cup fruit (300 calories)\",\\n        \"1 cup popcorn (200 calories)\"\\n      ]\\n    }\\n  }\\n}\\n```'"
            ],
            "application/vnd.google.colaboratory.intrinsic+json": {
              "type": "string"
            }
          },
          "metadata": {},
          "execution_count": 20
        }
      ]
    },
    {
      "cell_type": "code",
      "source": [
        "response_string[0:]"
      ],
      "metadata": {
        "colab": {
          "base_uri": "https://localhost:8080/",
          "height": 109
        },
        "id": "GP0iLaMfdNRU",
        "outputId": "e8f0d4d5-b8f3-4396-dd6c-1b7102c0b759"
      },
      "execution_count": 21,
      "outputs": [
        {
          "output_type": "execute_result",
          "data": {
            "text/plain": [
              "'```json\\n{\\n  \"Breakfast\": {\\n    \"Meal 1\": {\\n      \"Calories\": 500,\\n      \"Food Items\": [\\n        \"2 cups oatmeal with 1/2 cup berries (250 calories)\",\\n        \"2 slices whole-wheat toast with 1 avocado (250 calories)\"\\n      ]\\n    }\\n  },\\n  \"Lunch\": {\\n    \"Meal 2\": {\\n      \"Calories\": 700,\\n      \"Food Items\": [\\n        \"1 cup lentil soup with 1/2 cup whole-wheat bread (400 calories)\",\\n        \"1 apple with 2 tablespoons peanut butter (300 calories)\"\\n      ]\\n    }\\n  },\\n  \"Afternoon Snack\": {\\n    \"Meal 3\": {\\n      \"Calories\": 400,\\n      \"Food Items\": [\\n        \"1 banana with 1/4 cup nuts (300 calories)\",\\n        \"1 cup nonfat yogurt with berries (100 calories)\"\\n      ]\\n    }\\n  },\\n  \"Dinner\": {\\n    \"Meal 4\": {\\n      \"Calories\": 900,\\n      \"Food Items\": [\\n        \"2 cups tofu stir-fry with brown rice (600 calories)\",\\n        \"1 cup steamed broccoli (150 calories)\",\\n        \"1/2 cup quinoa (150 calories)\"\\n      ]\\n    }\\n  },\\n  \"Evening Snack\": {\\n    \"Meal 5\": {\\n      \"Calories\": 500,\\n      \"Food Items\": [\\n        \"1 cup cottage cheese with 1/2 cup fruit (300 calories)\",\\n        \"1 cup popcorn (200 calories)\"\\n      ]\\n    }\\n  }\\n}\\n```'"
            ],
            "application/vnd.google.colaboratory.intrinsic+json": {
              "type": "string"
            }
          },
          "metadata": {},
          "execution_count": 21
        }
      ]
    },
    {
      "cell_type": "markdown",
      "source": [
        "Using LangChain"
      ],
      "metadata": {
        "id": "adlMyR1kcowT"
      }
    },
    {
      "cell_type": "code",
      "source": [
        "!pip install -U langchain-google-genai"
      ],
      "metadata": {
        "id": "dwqUofmhapm-",
        "colab": {
          "base_uri": "https://localhost:8080/"
        },
        "outputId": "eb92433e-cacf-419a-850a-eb7bce15f471"
      },
      "execution_count": 22,
      "outputs": [
        {
          "output_type": "stream",
          "name": "stdout",
          "text": [
            "Requirement already satisfied: langchain-google-genai in /usr/local/lib/python3.10/dist-packages (1.0.2)\n",
            "Requirement already satisfied: google-generativeai<0.6.0,>=0.5.0 in /usr/local/lib/python3.10/dist-packages (from langchain-google-genai) (0.5.2)\n",
            "Requirement already satisfied: langchain-core<0.2,>=0.1.27 in /usr/local/lib/python3.10/dist-packages (from langchain-google-genai) (0.1.45)\n",
            "Requirement already satisfied: google-ai-generativelanguage==0.6.2 in /usr/local/lib/python3.10/dist-packages (from google-generativeai<0.6.0,>=0.5.0->langchain-google-genai) (0.6.2)\n",
            "Requirement already satisfied: google-api-core in /usr/local/lib/python3.10/dist-packages (from google-generativeai<0.6.0,>=0.5.0->langchain-google-genai) (2.11.1)\n",
            "Requirement already satisfied: google-api-python-client in /usr/local/lib/python3.10/dist-packages (from google-generativeai<0.6.0,>=0.5.0->langchain-google-genai) (2.84.0)\n",
            "Requirement already satisfied: google-auth>=2.15.0 in /usr/local/lib/python3.10/dist-packages (from google-generativeai<0.6.0,>=0.5.0->langchain-google-genai) (2.27.0)\n",
            "Requirement already satisfied: protobuf in /usr/local/lib/python3.10/dist-packages (from google-generativeai<0.6.0,>=0.5.0->langchain-google-genai) (3.20.3)\n",
            "Requirement already satisfied: pydantic in /usr/local/lib/python3.10/dist-packages (from google-generativeai<0.6.0,>=0.5.0->langchain-google-genai) (2.7.0)\n",
            "Requirement already satisfied: tqdm in /usr/local/lib/python3.10/dist-packages (from google-generativeai<0.6.0,>=0.5.0->langchain-google-genai) (4.66.2)\n",
            "Requirement already satisfied: typing-extensions in /usr/local/lib/python3.10/dist-packages (from google-generativeai<0.6.0,>=0.5.0->langchain-google-genai) (4.11.0)\n",
            "Requirement already satisfied: proto-plus<2.0.0dev,>=1.22.3 in /usr/local/lib/python3.10/dist-packages (from google-ai-generativelanguage==0.6.2->google-generativeai<0.6.0,>=0.5.0->langchain-google-genai) (1.23.0)\n",
            "Requirement already satisfied: PyYAML>=5.3 in /usr/local/lib/python3.10/dist-packages (from langchain-core<0.2,>=0.1.27->langchain-google-genai) (6.0.1)\n",
            "Requirement already satisfied: jsonpatch<2.0,>=1.33 in /usr/local/lib/python3.10/dist-packages (from langchain-core<0.2,>=0.1.27->langchain-google-genai) (1.33)\n",
            "Requirement already satisfied: langsmith<0.2.0,>=0.1.0 in /usr/local/lib/python3.10/dist-packages (from langchain-core<0.2,>=0.1.27->langchain-google-genai) (0.1.49)\n",
            "Requirement already satisfied: packaging<24.0,>=23.2 in /usr/local/lib/python3.10/dist-packages (from langchain-core<0.2,>=0.1.27->langchain-google-genai) (23.2)\n",
            "Requirement already satisfied: tenacity<9.0.0,>=8.1.0 in /usr/local/lib/python3.10/dist-packages (from langchain-core<0.2,>=0.1.27->langchain-google-genai) (8.2.3)\n",
            "Requirement already satisfied: cachetools<6.0,>=2.0.0 in /usr/local/lib/python3.10/dist-packages (from google-auth>=2.15.0->google-generativeai<0.6.0,>=0.5.0->langchain-google-genai) (5.3.3)\n",
            "Requirement already satisfied: pyasn1-modules>=0.2.1 in /usr/local/lib/python3.10/dist-packages (from google-auth>=2.15.0->google-generativeai<0.6.0,>=0.5.0->langchain-google-genai) (0.4.0)\n",
            "Requirement already satisfied: rsa<5,>=3.1.4 in /usr/local/lib/python3.10/dist-packages (from google-auth>=2.15.0->google-generativeai<0.6.0,>=0.5.0->langchain-google-genai) (4.9)\n",
            "Requirement already satisfied: jsonpointer>=1.9 in /usr/local/lib/python3.10/dist-packages (from jsonpatch<2.0,>=1.33->langchain-core<0.2,>=0.1.27->langchain-google-genai) (2.4)\n",
            "Requirement already satisfied: orjson<4.0.0,>=3.9.14 in /usr/local/lib/python3.10/dist-packages (from langsmith<0.2.0,>=0.1.0->langchain-core<0.2,>=0.1.27->langchain-google-genai) (3.10.1)\n",
            "Requirement already satisfied: requests<3,>=2 in /usr/local/lib/python3.10/dist-packages (from langsmith<0.2.0,>=0.1.0->langchain-core<0.2,>=0.1.27->langchain-google-genai) (2.31.0)\n",
            "Requirement already satisfied: annotated-types>=0.4.0 in /usr/local/lib/python3.10/dist-packages (from pydantic->google-generativeai<0.6.0,>=0.5.0->langchain-google-genai) (0.6.0)\n",
            "Requirement already satisfied: pydantic-core==2.18.1 in /usr/local/lib/python3.10/dist-packages (from pydantic->google-generativeai<0.6.0,>=0.5.0->langchain-google-genai) (2.18.1)\n",
            "Requirement already satisfied: googleapis-common-protos<2.0.dev0,>=1.56.2 in /usr/local/lib/python3.10/dist-packages (from google-api-core->google-generativeai<0.6.0,>=0.5.0->langchain-google-genai) (1.63.0)\n",
            "Requirement already satisfied: httplib2<1dev,>=0.15.0 in /usr/local/lib/python3.10/dist-packages (from google-api-python-client->google-generativeai<0.6.0,>=0.5.0->langchain-google-genai) (0.22.0)\n",
            "Requirement already satisfied: google-auth-httplib2>=0.1.0 in /usr/local/lib/python3.10/dist-packages (from google-api-python-client->google-generativeai<0.6.0,>=0.5.0->langchain-google-genai) (0.1.1)\n",
            "Requirement already satisfied: uritemplate<5,>=3.0.1 in /usr/local/lib/python3.10/dist-packages (from google-api-python-client->google-generativeai<0.6.0,>=0.5.0->langchain-google-genai) (4.1.1)\n",
            "Requirement already satisfied: grpcio<2.0dev,>=1.33.2 in /usr/local/lib/python3.10/dist-packages (from google-api-core->google-generativeai<0.6.0,>=0.5.0->langchain-google-genai) (1.62.1)\n",
            "Requirement already satisfied: grpcio-status<2.0.dev0,>=1.33.2 in /usr/local/lib/python3.10/dist-packages (from google-api-core->google-generativeai<0.6.0,>=0.5.0->langchain-google-genai) (1.48.2)\n",
            "Requirement already satisfied: pyparsing!=3.0.0,!=3.0.1,!=3.0.2,!=3.0.3,<4,>=2.4.2 in /usr/local/lib/python3.10/dist-packages (from httplib2<1dev,>=0.15.0->google-api-python-client->google-generativeai<0.6.0,>=0.5.0->langchain-google-genai) (3.1.2)\n",
            "Requirement already satisfied: pyasn1<0.7.0,>=0.4.6 in /usr/local/lib/python3.10/dist-packages (from pyasn1-modules>=0.2.1->google-auth>=2.15.0->google-generativeai<0.6.0,>=0.5.0->langchain-google-genai) (0.6.0)\n",
            "Requirement already satisfied: charset-normalizer<4,>=2 in /usr/local/lib/python3.10/dist-packages (from requests<3,>=2->langsmith<0.2.0,>=0.1.0->langchain-core<0.2,>=0.1.27->langchain-google-genai) (3.3.2)\n",
            "Requirement already satisfied: idna<4,>=2.5 in /usr/local/lib/python3.10/dist-packages (from requests<3,>=2->langsmith<0.2.0,>=0.1.0->langchain-core<0.2,>=0.1.27->langchain-google-genai) (3.7)\n",
            "Requirement already satisfied: urllib3<3,>=1.21.1 in /usr/local/lib/python3.10/dist-packages (from requests<3,>=2->langsmith<0.2.0,>=0.1.0->langchain-core<0.2,>=0.1.27->langchain-google-genai) (2.0.7)\n",
            "Requirement already satisfied: certifi>=2017.4.17 in /usr/local/lib/python3.10/dist-packages (from requests<3,>=2->langsmith<0.2.0,>=0.1.0->langchain-core<0.2,>=0.1.27->langchain-google-genai) (2024.2.2)\n"
          ]
        }
      ]
    },
    {
      "cell_type": "code",
      "source": [
        "from langchain_google_genai import ChatGoogleGenerativeAI"
      ],
      "metadata": {
        "id": "V8xgnqvvapdH"
      },
      "execution_count": 23,
      "outputs": []
    },
    {
      "cell_type": "code",
      "source": [
        "llm = ChatGoogleGenerativeAI(model=\"gemini-pro\", google_api_key=GOOGLE_API_KEY)"
      ],
      "metadata": {
        "id": "exHXZHyWapVA"
      },
      "execution_count": 24,
      "outputs": []
    },
    {
      "cell_type": "code",
      "source": [
        "result = llm.invoke(\"Give me a vegetarian diet plan for today\")"
      ],
      "metadata": {
        "id": "yln8UKztapOY"
      },
      "execution_count": 25,
      "outputs": []
    },
    {
      "cell_type": "code",
      "source": [
        "result"
      ],
      "metadata": {
        "colab": {
          "base_uri": "https://localhost:8080/"
        },
        "id": "VdhAvnNyapHa",
        "outputId": "32856aea-501b-47ff-b5ce-d5f3aea95d24"
      },
      "execution_count": 26,
      "outputs": [
        {
          "output_type": "execute_result",
          "data": {
            "text/plain": [
              "AIMessage(content=\"**Breakfast**\\n\\n* Oatmeal with berries, nuts, and a drizzle of maple syrup\\n* Whole-wheat toast with avocado and a sprinkle of nutritional yeast\\n* Tofu scramble with vegetables\\n\\n**Lunch**\\n\\n* Vegetarian chili with cornbread\\n* Salad with grilled tempeh, quinoa, vegetables, and a light vinaigrette\\n* Bean and cheese burrito with whole-wheat tortilla\\n\\n**Dinner**\\n\\n* Vegetable stir-fry with brown rice\\n* Lentil soup with whole-wheat bread\\n* Vegetarian shepherd's pie with mashed potatoes\\n\\n**Snacks**\\n\\n* Apple with peanut butter\\n* Banana with almond butter\\n* Trail mix with nuts, seeds, and dried fruit\\n\\n**Hydration**\\n\\n* Water throughout the day\\n* Herbal tea\\n* Coconut water\\n\\n**Notes:**\\n\\n* Choose whole grains, fruits, vegetables, legumes, and nuts as the foundation of your diet.\\n* Include a variety of plant-based proteins, such as beans, lentils, tofu, and tempeh.\\n* Limit processed foods and sugary drinks.\\n* Cook meals at home as much as possible to control ingredients and portion sizes.\\n* Consult with a healthcare professional or registered dietitian for personalized advice and to ensure that this diet meets your individual needs.\", response_metadata={'prompt_feedback': {'block_reason': 0, 'safety_ratings': []}, 'finish_reason': 'STOP', 'safety_ratings': [{'category': 'HARM_CATEGORY_SEXUALLY_EXPLICIT', 'probability': 'NEGLIGIBLE', 'blocked': False}, {'category': 'HARM_CATEGORY_HATE_SPEECH', 'probability': 'NEGLIGIBLE', 'blocked': False}, {'category': 'HARM_CATEGORY_HARASSMENT', 'probability': 'NEGLIGIBLE', 'blocked': False}, {'category': 'HARM_CATEGORY_DANGEROUS_CONTENT', 'probability': 'NEGLIGIBLE', 'blocked': False}]}, id='run-6c54195a-998d-4cf6-ade9-27a697c817aa-0')"
            ]
          },
          "metadata": {},
          "execution_count": 26
        }
      ]
    },
    {
      "cell_type": "code",
      "source": [
        "print(result.content)"
      ],
      "metadata": {
        "colab": {
          "base_uri": "https://localhost:8080/"
        },
        "id": "Lbj1XYoFao96",
        "outputId": "05a009a0-20f9-4c92-a987-708bf35ccbde"
      },
      "execution_count": 27,
      "outputs": [
        {
          "output_type": "stream",
          "name": "stdout",
          "text": [
            "**Breakfast**\n",
            "\n",
            "* Oatmeal with berries, nuts, and a drizzle of maple syrup\n",
            "* Whole-wheat toast with avocado and a sprinkle of nutritional yeast\n",
            "* Tofu scramble with vegetables\n",
            "\n",
            "**Lunch**\n",
            "\n",
            "* Vegetarian chili with cornbread\n",
            "* Salad with grilled tempeh, quinoa, vegetables, and a light vinaigrette\n",
            "* Bean and cheese burrito with whole-wheat tortilla\n",
            "\n",
            "**Dinner**\n",
            "\n",
            "* Vegetable stir-fry with brown rice\n",
            "* Lentil soup with whole-wheat bread\n",
            "* Vegetarian shepherd's pie with mashed potatoes\n",
            "\n",
            "**Snacks**\n",
            "\n",
            "* Apple with peanut butter\n",
            "* Banana with almond butter\n",
            "* Trail mix with nuts, seeds, and dried fruit\n",
            "\n",
            "**Hydration**\n",
            "\n",
            "* Water throughout the day\n",
            "* Herbal tea\n",
            "* Coconut water\n",
            "\n",
            "**Notes:**\n",
            "\n",
            "* Choose whole grains, fruits, vegetables, legumes, and nuts as the foundation of your diet.\n",
            "* Include a variety of plant-based proteins, such as beans, lentils, tofu, and tempeh.\n",
            "* Limit processed foods and sugary drinks.\n",
            "* Cook meals at home as much as possible to control ingredients and portion sizes.\n",
            "* Consult with a healthcare professional or registered dietitian for personalized advice and to ensure that this diet meets your individual needs.\n"
          ]
        }
      ]
    },
    {
      "cell_type": "code",
      "source": [
        "!pip install langchain"
      ],
      "metadata": {
        "id": "Z2r6RZFkg1wH",
        "colab": {
          "base_uri": "https://localhost:8080/"
        },
        "outputId": "1ff27109-4211-4c7a-ff9c-d72d286f8c7c"
      },
      "execution_count": 28,
      "outputs": [
        {
          "output_type": "stream",
          "name": "stdout",
          "text": [
            "Collecting langchain\n",
            "  Downloading langchain-0.1.16-py3-none-any.whl (817 kB)\n",
            "\u001b[2K     \u001b[90m━━━━━━━━━━━━━━━━━━━━━━━━━━━━━━━━━━━━━━━━\u001b[0m \u001b[32m817.7/817.7 kB\u001b[0m \u001b[31m4.2 MB/s\u001b[0m eta \u001b[36m0:00:00\u001b[0m\n",
            "\u001b[?25hRequirement already satisfied: PyYAML>=5.3 in /usr/local/lib/python3.10/dist-packages (from langchain) (6.0.1)\n",
            "Requirement already satisfied: SQLAlchemy<3,>=1.4 in /usr/local/lib/python3.10/dist-packages (from langchain) (2.0.29)\n",
            "Requirement already satisfied: aiohttp<4.0.0,>=3.8.3 in /usr/local/lib/python3.10/dist-packages (from langchain) (3.9.5)\n",
            "Requirement already satisfied: async-timeout<5.0.0,>=4.0.0 in /usr/local/lib/python3.10/dist-packages (from langchain) (4.0.3)\n",
            "Collecting dataclasses-json<0.7,>=0.5.7 (from langchain)\n",
            "  Downloading dataclasses_json-0.6.4-py3-none-any.whl (28 kB)\n",
            "Requirement already satisfied: jsonpatch<2.0,>=1.33 in /usr/local/lib/python3.10/dist-packages (from langchain) (1.33)\n",
            "Collecting langchain-community<0.1,>=0.0.32 (from langchain)\n",
            "  Downloading langchain_community-0.0.34-py3-none-any.whl (1.9 MB)\n",
            "\u001b[2K     \u001b[90m━━━━━━━━━━━━━━━━━━━━━━━━━━━━━━━━━━━━━━━━\u001b[0m \u001b[32m1.9/1.9 MB\u001b[0m \u001b[31m30.9 MB/s\u001b[0m eta \u001b[36m0:00:00\u001b[0m\n",
            "\u001b[?25hRequirement already satisfied: langchain-core<0.2.0,>=0.1.42 in /usr/local/lib/python3.10/dist-packages (from langchain) (0.1.45)\n",
            "Collecting langchain-text-splitters<0.1,>=0.0.1 (from langchain)\n",
            "  Downloading langchain_text_splitters-0.0.1-py3-none-any.whl (21 kB)\n",
            "Requirement already satisfied: langsmith<0.2.0,>=0.1.17 in /usr/local/lib/python3.10/dist-packages (from langchain) (0.1.49)\n",
            "Requirement already satisfied: numpy<2,>=1 in /usr/local/lib/python3.10/dist-packages (from langchain) (1.25.2)\n",
            "Requirement already satisfied: pydantic<3,>=1 in /usr/local/lib/python3.10/dist-packages (from langchain) (2.7.0)\n",
            "Requirement already satisfied: requests<3,>=2 in /usr/local/lib/python3.10/dist-packages (from langchain) (2.31.0)\n",
            "Requirement already satisfied: tenacity<9.0.0,>=8.1.0 in /usr/local/lib/python3.10/dist-packages (from langchain) (8.2.3)\n",
            "Requirement already satisfied: aiosignal>=1.1.2 in /usr/local/lib/python3.10/dist-packages (from aiohttp<4.0.0,>=3.8.3->langchain) (1.3.1)\n",
            "Requirement already satisfied: attrs>=17.3.0 in /usr/local/lib/python3.10/dist-packages (from aiohttp<4.0.0,>=3.8.3->langchain) (23.2.0)\n",
            "Requirement already satisfied: frozenlist>=1.1.1 in /usr/local/lib/python3.10/dist-packages (from aiohttp<4.0.0,>=3.8.3->langchain) (1.4.1)\n",
            "Requirement already satisfied: multidict<7.0,>=4.5 in /usr/local/lib/python3.10/dist-packages (from aiohttp<4.0.0,>=3.8.3->langchain) (6.0.5)\n",
            "Requirement already satisfied: yarl<2.0,>=1.0 in /usr/local/lib/python3.10/dist-packages (from aiohttp<4.0.0,>=3.8.3->langchain) (1.9.4)\n",
            "Collecting marshmallow<4.0.0,>=3.18.0 (from dataclasses-json<0.7,>=0.5.7->langchain)\n",
            "  Downloading marshmallow-3.21.1-py3-none-any.whl (49 kB)\n",
            "\u001b[2K     \u001b[90m━━━━━━━━━━━━━━━━━━━━━━━━━━━━━━━━━━━━━━━━\u001b[0m \u001b[32m49.4/49.4 kB\u001b[0m \u001b[31m5.8 MB/s\u001b[0m eta \u001b[36m0:00:00\u001b[0m\n",
            "\u001b[?25hCollecting typing-inspect<1,>=0.4.0 (from dataclasses-json<0.7,>=0.5.7->langchain)\n",
            "  Downloading typing_inspect-0.9.0-py3-none-any.whl (8.8 kB)\n",
            "Requirement already satisfied: jsonpointer>=1.9 in /usr/local/lib/python3.10/dist-packages (from jsonpatch<2.0,>=1.33->langchain) (2.4)\n",
            "Requirement already satisfied: packaging<24.0,>=23.2 in /usr/local/lib/python3.10/dist-packages (from langchain-core<0.2.0,>=0.1.42->langchain) (23.2)\n",
            "Requirement already satisfied: orjson<4.0.0,>=3.9.14 in /usr/local/lib/python3.10/dist-packages (from langsmith<0.2.0,>=0.1.17->langchain) (3.10.1)\n",
            "Requirement already satisfied: annotated-types>=0.4.0 in /usr/local/lib/python3.10/dist-packages (from pydantic<3,>=1->langchain) (0.6.0)\n",
            "Requirement already satisfied: pydantic-core==2.18.1 in /usr/local/lib/python3.10/dist-packages (from pydantic<3,>=1->langchain) (2.18.1)\n",
            "Requirement already satisfied: typing-extensions>=4.6.1 in /usr/local/lib/python3.10/dist-packages (from pydantic<3,>=1->langchain) (4.11.0)\n",
            "Requirement already satisfied: charset-normalizer<4,>=2 in /usr/local/lib/python3.10/dist-packages (from requests<3,>=2->langchain) (3.3.2)\n",
            "Requirement already satisfied: idna<4,>=2.5 in /usr/local/lib/python3.10/dist-packages (from requests<3,>=2->langchain) (3.7)\n",
            "Requirement already satisfied: urllib3<3,>=1.21.1 in /usr/local/lib/python3.10/dist-packages (from requests<3,>=2->langchain) (2.0.7)\n",
            "Requirement already satisfied: certifi>=2017.4.17 in /usr/local/lib/python3.10/dist-packages (from requests<3,>=2->langchain) (2024.2.2)\n",
            "Requirement already satisfied: greenlet!=0.4.17 in /usr/local/lib/python3.10/dist-packages (from SQLAlchemy<3,>=1.4->langchain) (3.0.3)\n",
            "Collecting mypy-extensions>=0.3.0 (from typing-inspect<1,>=0.4.0->dataclasses-json<0.7,>=0.5.7->langchain)\n",
            "  Downloading mypy_extensions-1.0.0-py3-none-any.whl (4.7 kB)\n",
            "Installing collected packages: mypy-extensions, marshmallow, typing-inspect, dataclasses-json, langchain-text-splitters, langchain-community, langchain\n",
            "Successfully installed dataclasses-json-0.6.4 langchain-0.1.16 langchain-community-0.0.34 langchain-text-splitters-0.0.1 marshmallow-3.21.1 mypy-extensions-1.0.0 typing-inspect-0.9.0\n"
          ]
        }
      ]
    },
    {
      "cell_type": "code",
      "source": [
        "from langchain.prompts import PromptTemplate"
      ],
      "metadata": {
        "id": "CQMFpsT2gakK"
      },
      "execution_count": 29,
      "outputs": []
    },
    {
      "cell_type": "code",
      "source": [
        "diet_input_variables = {\n",
        "    \"age\",\n",
        "    \"current_weight\",\n",
        "    \"desired_weight\",\n",
        "    \"gender\",\n",
        "    \"diet_restriction\"\n",
        "}"
      ],
      "metadata": {
        "id": "iiYA4MTkgadG"
      },
      "execution_count": 30,
      "outputs": []
    },
    {
      "cell_type": "code",
      "source": [
        "diet_input_string = \"I am a {age} {gender}. My current weight is {current_weight}. I want to get to {desired_weight} weight. I am a {diet_restriction}. I want to have 5 meals a day. Can you suggest me a meal plan for today?\""
      ],
      "metadata": {
        "id": "FNyxSMUChiCH"
      },
      "execution_count": 31,
      "outputs": []
    },
    {
      "cell_type": "code",
      "source": [
        "diet_template = PromptTemplate(\n",
        "    input_variables=diet_input_variables,\n",
        "    template=diet_input_string\n",
        ")"
      ],
      "metadata": {
        "id": "1ZPt_HMEgaWj"
      },
      "execution_count": 32,
      "outputs": []
    },
    {
      "cell_type": "code",
      "source": [
        "message = diet_template.format(age=23, current_weight=80, desired_weight=75, gender=\"male\", diet_restriction=\"vegan\")"
      ],
      "metadata": {
        "id": "nmUNzypugaOF"
      },
      "execution_count": 33,
      "outputs": []
    },
    {
      "cell_type": "code",
      "source": [
        "print(message)"
      ],
      "metadata": {
        "colab": {
          "base_uri": "https://localhost:8080/"
        },
        "id": "6qZUY9qSiXLQ",
        "outputId": "b184dde1-ea62-404b-9227-65c34444e0ca"
      },
      "execution_count": 34,
      "outputs": [
        {
          "output_type": "stream",
          "name": "stdout",
          "text": [
            "I am a 23 male. My current weight is 80. I want to get to 75 weight. I am a vegan. I want to have 5 meals a day. Can you suggest me a meal plan for today?\n"
          ]
        }
      ]
    },
    {
      "cell_type": "code",
      "source": [
        "response = llm.invoke(message)"
      ],
      "metadata": {
        "id": "6f35wFiWiaEw"
      },
      "execution_count": 35,
      "outputs": []
    },
    {
      "cell_type": "code",
      "source": [
        "to_markdown(response.content)"
      ],
      "metadata": {
        "colab": {
          "base_uri": "https://localhost:8080/",
          "height": 528
        },
        "id": "_Ew2E9uQioRT",
        "outputId": "f4fd6095-5428-4078-bced-8014ffdf5012"
      },
      "execution_count": 36,
      "outputs": [
        {
          "output_type": "execute_result",
          "data": {
            "text/plain": [
              "<IPython.core.display.Markdown object>"
            ],
            "text/markdown": "> **Meal Plan for a 23-Year-Old Male Vegan Aiming to Lose 5 Pounds**\n> \n> **Breakfast (8:00 AM)**\n> \n> * 1 cup oatmeal with berries and nuts (approx. 300 calories)\n> * 1 cup plant-based milk (approx. 100 calories)\n> \n> **Mid-Morning Snack (10:30 AM)**\n> \n> * 1 apple with 2 tablespoons peanut butter (approx. 250 calories)\n> \n> **Lunch (12:30 PM)**\n> \n> * 1 cup lentil soup with 1 slice whole-wheat bread (approx. 350 calories)\n> * 1 cup salad with grilled tofu, vegetables, and light dressing (approx. 250 calories)\n> \n> **Afternoon Snack (3:00 PM)**\n> \n> * 1 cup hummus with vegetable sticks (approx. 200 calories)\n> \n> **Dinner (6:00 PM)**\n> \n> * 1 cup grilled tempeh with roasted vegetables (approx. 300 calories)\n> * 1 cup brown rice (approx. 200 calories)\n> \n> **Total Calories: Approximately 1,600**\n> \n> **Additional Tips:**\n> \n> * Drink plenty of water throughout the day.\n> * Avoid sugary drinks and processed foods.\n> * Focus on whole, unprocessed plant-based foods such as fruits, vegetables, legumes, and whole grains.\n> * Cook meals at home to control ingredients and portion sizes.\n> * Consult with a registered dietitian or healthcare professional for personalized guidance.\n> \n> **Note:** This meal plan is a suggestion and may need to be adjusted based on individual calorie needs and preferences. It is important to listen to your body and make changes as necessary."
          },
          "metadata": {},
          "execution_count": 36
        }
      ]
    },
    {
      "cell_type": "code",
      "source": [
        "from langchain.output_parsers import ResponseSchema, StructuredOutputParser"
      ],
      "metadata": {
        "id": "fzIP_HJJjpJE"
      },
      "execution_count": 37,
      "outputs": []
    },
    {
      "cell_type": "code",
      "source": [
        "meal1 = ResponseSchema(name=\"meal1\", description=\"What should be the breakfast and how many calories are in there?\")\n",
        "meal2 = ResponseSchema(name=\"meal2\", description=\"What should be the morning snack and how many calories are in there?\")\n",
        "meal3 = ResponseSchema(name=\"meal3\", description=\"What should be the lunch and how many calories are in there?\")\n",
        "meal4 = ResponseSchema(name=\"meal4\", description=\"What should be the afternoon snack and how many calories are in there?\")\n",
        "meal5 = ResponseSchema(name=\"meal5\", description=\"What should be the dinner and how many calories are in there?\")\n",
        "meal6 = ResponseSchema(name=\"meal6\", description=\"What should be the evening snack and how many calories are in there?\")"
      ],
      "metadata": {
        "id": "udNKeiM_jpAS"
      },
      "execution_count": 38,
      "outputs": []
    },
    {
      "cell_type": "code",
      "source": [
        "response_schema = [meal1,meal2,meal3,meal4,meal5,meal6]"
      ],
      "metadata": {
        "id": "hZnnqqeMjo89"
      },
      "execution_count": 39,
      "outputs": []
    },
    {
      "cell_type": "code",
      "source": [
        "output_parser = StructuredOutputParser.from_response_schemas(response_schema)\n",
        "format_instructions = output_parser.get_format_instructions()\n",
        "print(format_instructions)"
      ],
      "metadata": {
        "colab": {
          "base_uri": "https://localhost:8080/"
        },
        "id": "G010DBmAjo5-",
        "outputId": "cd30be58-6b4a-487e-f98d-c0c340fd40f5"
      },
      "execution_count": 40,
      "outputs": [
        {
          "output_type": "stream",
          "name": "stdout",
          "text": [
            "The output should be a markdown code snippet formatted in the following schema, including the leading and trailing \"```json\" and \"```\":\n",
            "\n",
            "```json\n",
            "{\n",
            "\t\"meal1\": string  // What should be the breakfast and how many calories are in there?\n",
            "\t\"meal2\": string  // What should be the morning snack and how many calories are in there?\n",
            "\t\"meal3\": string  // What should be the lunch and how many calories are in there?\n",
            "\t\"meal4\": string  // What should be the afternoon snack and how many calories are in there?\n",
            "\t\"meal5\": string  // What should be the dinner and how many calories are in there?\n",
            "\t\"meal6\": string  // What should be the evening snack and how many calories are in there?\n",
            "}\n",
            "```\n"
          ]
        }
      ]
    },
    {
      "cell_type": "code",
      "source": [
        "template = \"\"\" \\\n",
        "I am a {age} {gender}. \\\n",
        "My current weight is {current_weight}. \\\n",
        "I want to get to {desired_weight} weight. \\\n",
        "I am a {diet_restriction}. \\\n",
        "I want to have 5 meals a day. \\\n",
        "Can you suggest me a meal plan for today? \\\n",
        "Using these details answer the following questions: \\\n",
        "meal1: \"What should be the breakfast and how many calories are in there?\"\n",
        "meal2: \"What should be the morning snack and how many calories are in there?\"\n",
        "meal3: \"What should be the lunch and how many calories are in there?\"\n",
        "meal4: \"What should be the afternoon snack and how many calories are in there?\"\n",
        "meal5: \"What should be the dinner and how many calories are in there?\"\n",
        "meal6: \"What should be the evening snack and how many calories are in there?\"\n",
        "\n",
        "{format_instructions}\n",
        "\"\"\""
      ],
      "metadata": {
        "id": "lSZzK2xrjo1t"
      },
      "execution_count": 41,
      "outputs": []
    },
    {
      "cell_type": "code",
      "source": [
        "diet_template = PromptTemplate(\n",
        "    input_variables=diet_input_variables,\n",
        "    template=template\n",
        ")"
      ],
      "metadata": {
        "id": "cO8zCd9Yjotx"
      },
      "execution_count": 42,
      "outputs": []
    },
    {
      "cell_type": "code",
      "source": [
        "message = diet_template.format(\n",
        "    age=23, current_weight=80,\n",
        "    desired_weight=75, gender=\"male\",\n",
        "    diet_restriction=\"vegan\", format_instructions=format_instructions\n",
        "    )"
      ],
      "metadata": {
        "id": "K1MzNoslmRGu"
      },
      "execution_count": 43,
      "outputs": []
    },
    {
      "cell_type": "code",
      "source": [
        "print(message)"
      ],
      "metadata": {
        "colab": {
          "base_uri": "https://localhost:8080/"
        },
        "id": "R-KUSzbNmRCk",
        "outputId": "ec239e07-9f63-44f7-e709-c3b8bd2f4600"
      },
      "execution_count": 44,
      "outputs": [
        {
          "output_type": "stream",
          "name": "stdout",
          "text": [
            " I am a 23 male. My current weight is 80. I want to get to 75 weight. I am a vegan. I want to have 5 meals a day. Can you suggest me a meal plan for today? Using these details answer the following questions: meal1: \"What should be the breakfast and how many calories are in there?\"\n",
            "meal2: \"What should be the morning snack and how many calories are in there?\"\n",
            "meal3: \"What should be the lunch and how many calories are in there?\"\n",
            "meal4: \"What should be the afternoon snack and how many calories are in there?\"\n",
            "meal5: \"What should be the dinner and how many calories are in there?\"\n",
            "meal6: \"What should be the evening snack and how many calories are in there?\"\n",
            "\n",
            "The output should be a markdown code snippet formatted in the following schema, including the leading and trailing \"```json\" and \"```\":\n",
            "\n",
            "```json\n",
            "{\n",
            "\t\"meal1\": string  // What should be the breakfast and how many calories are in there?\n",
            "\t\"meal2\": string  // What should be the morning snack and how many calories are in there?\n",
            "\t\"meal3\": string  // What should be the lunch and how many calories are in there?\n",
            "\t\"meal4\": string  // What should be the afternoon snack and how many calories are in there?\n",
            "\t\"meal5\": string  // What should be the dinner and how many calories are in there?\n",
            "\t\"meal6\": string  // What should be the evening snack and how many calories are in there?\n",
            "}\n",
            "```\n",
            "\n"
          ]
        }
      ]
    },
    {
      "cell_type": "code",
      "source": [
        "response = llm.invoke(message)"
      ],
      "metadata": {
        "id": "0vHPIy1LmQ8N"
      },
      "execution_count": 45,
      "outputs": []
    },
    {
      "cell_type": "code",
      "source": [
        "print(response.content)"
      ],
      "metadata": {
        "colab": {
          "base_uri": "https://localhost:8080/"
        },
        "id": "PHua57ycm6Y4",
        "outputId": "8f849026-3bd4-466e-c363-13ecda7731e2"
      },
      "execution_count": 46,
      "outputs": [
        {
          "output_type": "stream",
          "name": "stdout",
          "text": [
            "```json\n",
            "{\n",
            "  \"meal1\": \"**Breakfast:** Oatmeal with berries and nuts (300 calories)\",\n",
            "  \"meal2\": \"**Morning snack:** Banana with peanut butter (200 calories)\",\n",
            "  \"meal3\": \"**Lunch:** Lentil soup with whole-grain bread (400 calories)\",\n",
            "  \"meal4\": \"**Afternoon snack:** Apple with almond butter (250 calories)\",\n",
            "  \"meal5\": \"**Dinner:** Tofu stir-fry with brown rice (450 calories)\",\n",
            "  \"meal6\": \"**Evening snack:** Hummus with vegetable sticks (200 calories)\"\n",
            "}\n",
            "```\n"
          ]
        }
      ]
    },
    {
      "cell_type": "code",
      "source": [
        "output = output_parser.parse(response.content)\n",
        "output"
      ],
      "metadata": {
        "colab": {
          "base_uri": "https://localhost:8080/"
        },
        "id": "D_J1CswXm6OQ",
        "outputId": "dcac8bac-d3f0-44b1-b4c9-e2c7216095cb"
      },
      "execution_count": 47,
      "outputs": [
        {
          "output_type": "execute_result",
          "data": {
            "text/plain": [
              "{'meal1': '**Breakfast:** Oatmeal with berries and nuts (300 calories)',\n",
              " 'meal2': '**Morning snack:** Banana with peanut butter (200 calories)',\n",
              " 'meal3': '**Lunch:** Lentil soup with whole-grain bread (400 calories)',\n",
              " 'meal4': '**Afternoon snack:** Apple with almond butter (250 calories)',\n",
              " 'meal5': '**Dinner:** Tofu stir-fry with brown rice (450 calories)',\n",
              " 'meal6': '**Evening snack:** Hummus with vegetable sticks (200 calories)'}"
            ]
          },
          "metadata": {},
          "execution_count": 47
        }
      ]
    },
    {
      "cell_type": "code",
      "source": [
        "to_markdown(output[\"meal1\"])"
      ],
      "metadata": {
        "colab": {
          "base_uri": "https://localhost:8080/",
          "height": 62
        },
        "id": "9Yyf5M8qnLmB",
        "outputId": "3b5ca23e-c08a-40db-ffdc-01191814c5db"
      },
      "execution_count": 48,
      "outputs": [
        {
          "output_type": "execute_result",
          "data": {
            "text/plain": [
              "<IPython.core.display.Markdown object>"
            ],
            "text/markdown": "> **Breakfast:** Oatmeal with berries and nuts (300 calories)"
          },
          "metadata": {},
          "execution_count": 48
        }
      ]
    },
    {
      "cell_type": "markdown",
      "source": [
        "Adding 7 day Exercise and meal plan"
      ],
      "metadata": {
        "id": "WClM3DxfDPsb"
      }
    },
    {
      "cell_type": "code",
      "source": [
        "day1 = ResponseSchema(name=\"day1\", description=\"What should be my meal and my gym training routine for today?\")\n",
        "day2 = ResponseSchema(name=\"day2\", description=\"What should be my meal and my gym training routine for today?\")\n",
        "day3 = ResponseSchema(name=\"day3\", description=\"What should be my meal and my gym training routine for today?\")\n",
        "day4 = ResponseSchema(name=\"day4\", description=\"What should be my meal and my gym training routine for today?\")\n",
        "day5 = ResponseSchema(name=\"day5\", description=\"What should be my meal and my gym training routine for today?\")\n",
        "day6 = ResponseSchema(name=\"day6\", description=\"What should be my meal and my gym training routine for today?\")\n",
        "day7 = ResponseSchema(name=\"day7\", description=\"What should be my meal and my gym training routine for today?\")"
      ],
      "metadata": {
        "id": "vVskHttLDPSj"
      },
      "execution_count": 49,
      "outputs": []
    },
    {
      "cell_type": "code",
      "source": [
        "response_schema = [day1,day2,day3,day4,day5,day6,day7]"
      ],
      "metadata": {
        "id": "zerMISxHDPPz"
      },
      "execution_count": 50,
      "outputs": []
    },
    {
      "cell_type": "code",
      "source": [
        "output_parser = StructuredOutputParser.from_response_schemas(response_schema)\n",
        "format_instructions = output_parser.get_format_instructions()\n",
        "print(format_instructions)"
      ],
      "metadata": {
        "colab": {
          "base_uri": "https://localhost:8080/"
        },
        "id": "t3XJRxjTDPM2",
        "outputId": "71e35107-acca-4f69-cce0-ee36bae26791"
      },
      "execution_count": 51,
      "outputs": [
        {
          "output_type": "stream",
          "name": "stdout",
          "text": [
            "The output should be a markdown code snippet formatted in the following schema, including the leading and trailing \"```json\" and \"```\":\n",
            "\n",
            "```json\n",
            "{\n",
            "\t\"day1\": string  // What should be my meal and my gym training routine for today?\n",
            "\t\"day2\": string  // What should be my meal and my gym training routine for today?\n",
            "\t\"day3\": string  // What should be my meal and my gym training routine for today?\n",
            "\t\"day4\": string  // What should be my meal and my gym training routine for today?\n",
            "\t\"day5\": string  // What should be my meal and my gym training routine for today?\n",
            "\t\"day6\": string  // What should be my meal and my gym training routine for today?\n",
            "\t\"day7\": string  // What should be my meal and my gym training routine for today?\n",
            "}\n",
            "```\n"
          ]
        }
      ]
    },
    {
      "cell_type": "code",
      "source": [
        "template = \"\"\" \\\n",
        "I am a {age} {gender}. \\\n",
        "My current weight is {current_weight}. \\\n",
        "I want to get to {desired_weight} weight. \\\n",
        "I am a {diet_restriction}. \\\n",
        "Can you suggest me a meal plan and gym exercise routine for today? \\\n",
        "Using these details answer the following questions: \\\n",
        "day1: \"What should be my meal and my gym training routine for today?\"\n",
        "day2: \"What should be my meal and my gym training routine for today?\"\n",
        "day3: \"What should be my meal and my gym training routine for today?\"\n",
        "day4: \"What should be my meal and my gym training routine for today?\"\n",
        "day5: \"What should be my meal and my gym training routine for today?\"\n",
        "day6: \"What should be my meal and my gym training routine for today?\"\n",
        "day7: \"What should be my meal and my gym training routine for today?\"\n",
        "\n",
        "{format_instructions}\n",
        "\"\"\""
      ],
      "metadata": {
        "id": "YRSGATFnDPJ4"
      },
      "execution_count": 52,
      "outputs": []
    },
    {
      "cell_type": "code",
      "source": [
        "response_template = PromptTemplate(\n",
        "    input_variables=diet_input_variables,\n",
        "    template=template\n",
        ")"
      ],
      "metadata": {
        "id": "Sw6cR6xFDPGP"
      },
      "execution_count": 53,
      "outputs": []
    },
    {
      "cell_type": "code",
      "source": [
        "message = response_template.format(\n",
        "    age=23, current_weight=80,\n",
        "    desired_weight=75, gender=\"male\",\n",
        "    diet_restriction=\"vegan\", format_instructions=format_instructions\n",
        "    )"
      ],
      "metadata": {
        "id": "R-ClAL0RDPDM"
      },
      "execution_count": 54,
      "outputs": []
    },
    {
      "cell_type": "code",
      "source": [
        "print(message)"
      ],
      "metadata": {
        "colab": {
          "base_uri": "https://localhost:8080/"
        },
        "id": "KqhY8OcMDPAc",
        "outputId": "357a547d-127c-4a28-8aee-6e3fe392fb03"
      },
      "execution_count": 55,
      "outputs": [
        {
          "output_type": "stream",
          "name": "stdout",
          "text": [
            " I am a 23 male. My current weight is 80. I want to get to 75 weight. I am a vegan. Can you suggest me a meal plan and gym exercise routine for today? Using these details answer the following questions: day1: \"What should be my meal and my gym training routine for today?\"\n",
            "day2: \"What should be my meal and my gym training routine for today?\"\n",
            "day3: \"What should be my meal and my gym training routine for today?\"\n",
            "day4: \"What should be my meal and my gym training routine for today?\"\n",
            "day5: \"What should be my meal and my gym training routine for today?\"\n",
            "day6: \"What should be my meal and my gym training routine for today?\"\n",
            "day7: \"What should be my meal and my gym training routine for today?\"\n",
            "\n",
            "The output should be a markdown code snippet formatted in the following schema, including the leading and trailing \"```json\" and \"```\":\n",
            "\n",
            "```json\n",
            "{\n",
            "\t\"day1\": string  // What should be my meal and my gym training routine for today?\n",
            "\t\"day2\": string  // What should be my meal and my gym training routine for today?\n",
            "\t\"day3\": string  // What should be my meal and my gym training routine for today?\n",
            "\t\"day4\": string  // What should be my meal and my gym training routine for today?\n",
            "\t\"day5\": string  // What should be my meal and my gym training routine for today?\n",
            "\t\"day6\": string  // What should be my meal and my gym training routine for today?\n",
            "\t\"day7\": string  // What should be my meal and my gym training routine for today?\n",
            "}\n",
            "```\n",
            "\n"
          ]
        }
      ]
    },
    {
      "cell_type": "code",
      "source": [
        "response = llm.invoke(message)"
      ],
      "metadata": {
        "id": "uhYtkdm7DO9d"
      },
      "execution_count": 56,
      "outputs": []
    },
    {
      "cell_type": "code",
      "source": [
        "print(response)"
      ],
      "metadata": {
        "colab": {
          "base_uri": "https://localhost:8080/"
        },
        "id": "Xh2Uanc9DO5N",
        "outputId": "2c85f055-13a8-422a-fcc4-7f55d5ce9478"
      },
      "execution_count": 57,
      "outputs": [
        {
          "output_type": "stream",
          "name": "stdout",
          "text": [
            "content='```json\\n{\\n\\t\"day1\": \"**Meal Plan**\\\\n\\\\n* Breakfast: Oatmeal with berries and nuts\\\\n* Lunch: Salad with grilled tofu, quinoa, and vegetables\\\\n* Dinner: Lentil soup with whole-wheat bread\\\\n* Snacks: Fruits, vegetables, nuts, and seeds\\\\n\\\\n**Gym Training Routine**\\\\n\\\\n* Warm-up: 5 minutes of light cardio, such as jogging or cycling\\\\n* Strength training: 3 sets of 10-12 repetitions of each exercise\\\\n    * Squats\\\\n    * Lunges\\\\n    * Push-ups\\\\n    * Rows\\\\n    * Bicep curls\\\\n    * Tricep extensions\\\\n* Cool-down: 5 minutes of stretching\",\\n\\t\"day2\": \"**Meal Plan**\\\\n\\\\n* Breakfast: Smoothie made with fruits, vegetables, and plant-based milk\\\\n* Lunch: Sandwich on whole-wheat bread with hummus, vegetables, and sprouts\\\\n* Dinner: Stir-fry with tofu, vegetables, and brown rice\\\\n* Snacks: Trail mix, energy bars, and fruit\\\\n\\\\n**Gym Training Routine**\\\\n\\\\n* Warm-up: 5 minutes of light cardio, such as jogging or cycling\\\\n* Cardio: 30 minutes of moderate-intensity cardio, such as running, swimming, or biking\\\\n* Strength training: 3 sets of 10-12 repetitions of each exercise\\\\n    * Deadlifts\\\\n    * Bench press\\\\n    * Overhead press\\\\n    * Pull-ups\\\\n    * Dips\\\\n* Cool-down: 5 minutes of stretching\",\\n\\t\"day3\": \"**Meal Plan**\\\\n\\\\n* Breakfast: Tofu scramble with vegetables\\\\n* Lunch: Leftover stir-fry from dinner\\\\n* Dinner: Pasta with marinara sauce and vegetables\\\\n* Snacks: Popcorn, edamame, and hummus\\\\n\\\\n**Gym Training Routine**\\\\n\\\\n* Warm-up: 5 minutes of light cardio, such as jogging or cycling\\\\n* Strength training: 3 sets of 10-12 repetitions of each exercise\\\\n    * Squats\\\\n    * Lunges\\\\n    * Push-ups\\\\n    * Rows\\\\n    * Bicep curls\\\\n    * Tricep extensions\\\\n* Cool-down: 5 minutes of stretching\",\\n\\t\"day4\": \"**Meal Plan**\\\\n\\\\n* Breakfast: Overnight oats with chia seeds, berries, and nuts\\\\n* Lunch: Salad with grilled tofu, quinoa, and vegetables\\\\n* Dinner: Lentil soup with whole-wheat bread\\\\n* Snacks: Fruits, vegetables, nuts, and seeds\\\\n\\\\n**Gym Training Routine**\\\\n\\\\n* Warm-up: 5 minutes of light cardio, such as jogging or cycling\\\\n* Cardio: 30 minutes of moderate-intensity cardio, such as running, swimming, or biking\\\\n* Strength training: 3 sets of 10-12 repetitions of each exercise\\\\n    * Deadlifts\\\\n    * Bench press\\\\n    * Overhead press\\\\n    * Pull-ups\\\\n    * Dips\\\\n* Cool-down: 5 minutes of stretching\",\\n\\t\"day5\": \"**Meal Plan**\\\\n\\\\n* Breakfast: Smoothie made with fruits, vegetables, and plant-based milk\\\\n* Lunch: Sandwich on whole-wheat bread with hummus, vegetables, and sprouts\\\\n* Dinner: Stir-fry with tofu, vegetables, and brown rice\\\\n* Snacks: Trail mix, energy bars, and fruit\\\\n\\\\n**Gym Training Routine**\\\\n\\\\n* Warm-up: 5 minutes of light cardio, such as jogging or cycling\\\\n* Strength training: 3 sets of 10-12 repetitions of each exercise\\\\n    * Squats\\\\n    * Lunges\\\\n    * Push-ups\\\\n    * Rows\\\\n    * Bicep curls\\\\n    * Tricep extensions\\\\n* Cool-down: 5 minutes of stretching\",\\n\\t\"day6\": \"**Meal Plan**\\\\n\\\\n* Breakfast: Tofu scramble with vegetables\\\\n* Lunch: Leftover stir-fry from dinner\\\\n* Dinner: Pasta with marinara sauce and vegetables\\\\n* Snacks: Popcorn, edamame, and hummus\\\\n\\\\n**Gym Training Routine**\\\\n\\\\n* Rest\",\\n\\t\"day7\": \"**Meal Plan**\\\\n\\\\n* Breakfast: Overnight oats with chia seeds, berries, and nuts\\\\n* Lunch: Salad with grilled tofu, quinoa, and vegetables\\\\n* Dinner: Lentil soup with whole-wheat bread\\\\n* Snacks: Fruits, vegetables, nuts, and seeds\\\\n\\\\n**Gym Training Routine**\\\\n\\\\n* Active recovery: Go for a walk, hike, or bike ride\"\\n}\\n```' response_metadata={'prompt_feedback': {'block_reason': 0, 'safety_ratings': []}, 'finish_reason': 'STOP', 'safety_ratings': [{'category': 'HARM_CATEGORY_SEXUALLY_EXPLICIT', 'probability': 'NEGLIGIBLE', 'blocked': False}, {'category': 'HARM_CATEGORY_HATE_SPEECH', 'probability': 'NEGLIGIBLE', 'blocked': False}, {'category': 'HARM_CATEGORY_HARASSMENT', 'probability': 'NEGLIGIBLE', 'blocked': False}, {'category': 'HARM_CATEGORY_DANGEROUS_CONTENT', 'probability': 'NEGLIGIBLE', 'blocked': False}]} id='run-ebf3953b-808d-4ddd-9f4e-09bcbe14e24b-0'\n"
          ]
        }
      ]
    },
    {
      "cell_type": "code",
      "source": [
        "print(response.content)"
      ],
      "metadata": {
        "colab": {
          "base_uri": "https://localhost:8080/"
        },
        "id": "PInK19dbFxv2",
        "outputId": "211b0d39-69b0-4f67-93b6-ee3306020528"
      },
      "execution_count": 58,
      "outputs": [
        {
          "output_type": "stream",
          "name": "stdout",
          "text": [
            "```json\n",
            "{\n",
            "\t\"day1\": \"**Meal Plan**\\n\\n* Breakfast: Oatmeal with berries and nuts\\n* Lunch: Salad with grilled tofu, quinoa, and vegetables\\n* Dinner: Lentil soup with whole-wheat bread\\n* Snacks: Fruits, vegetables, nuts, and seeds\\n\\n**Gym Training Routine**\\n\\n* Warm-up: 5 minutes of light cardio, such as jogging or cycling\\n* Strength training: 3 sets of 10-12 repetitions of each exercise\\n    * Squats\\n    * Lunges\\n    * Push-ups\\n    * Rows\\n    * Bicep curls\\n    * Tricep extensions\\n* Cool-down: 5 minutes of stretching\",\n",
            "\t\"day2\": \"**Meal Plan**\\n\\n* Breakfast: Smoothie made with fruits, vegetables, and plant-based milk\\n* Lunch: Sandwich on whole-wheat bread with hummus, vegetables, and sprouts\\n* Dinner: Stir-fry with tofu, vegetables, and brown rice\\n* Snacks: Trail mix, energy bars, and fruit\\n\\n**Gym Training Routine**\\n\\n* Warm-up: 5 minutes of light cardio, such as jogging or cycling\\n* Cardio: 30 minutes of moderate-intensity cardio, such as running, swimming, or biking\\n* Strength training: 3 sets of 10-12 repetitions of each exercise\\n    * Deadlifts\\n    * Bench press\\n    * Overhead press\\n    * Pull-ups\\n    * Dips\\n* Cool-down: 5 minutes of stretching\",\n",
            "\t\"day3\": \"**Meal Plan**\\n\\n* Breakfast: Tofu scramble with vegetables\\n* Lunch: Leftover stir-fry from dinner\\n* Dinner: Pasta with marinara sauce and vegetables\\n* Snacks: Popcorn, edamame, and hummus\\n\\n**Gym Training Routine**\\n\\n* Warm-up: 5 minutes of light cardio, such as jogging or cycling\\n* Strength training: 3 sets of 10-12 repetitions of each exercise\\n    * Squats\\n    * Lunges\\n    * Push-ups\\n    * Rows\\n    * Bicep curls\\n    * Tricep extensions\\n* Cool-down: 5 minutes of stretching\",\n",
            "\t\"day4\": \"**Meal Plan**\\n\\n* Breakfast: Overnight oats with chia seeds, berries, and nuts\\n* Lunch: Salad with grilled tofu, quinoa, and vegetables\\n* Dinner: Lentil soup with whole-wheat bread\\n* Snacks: Fruits, vegetables, nuts, and seeds\\n\\n**Gym Training Routine**\\n\\n* Warm-up: 5 minutes of light cardio, such as jogging or cycling\\n* Cardio: 30 minutes of moderate-intensity cardio, such as running, swimming, or biking\\n* Strength training: 3 sets of 10-12 repetitions of each exercise\\n    * Deadlifts\\n    * Bench press\\n    * Overhead press\\n    * Pull-ups\\n    * Dips\\n* Cool-down: 5 minutes of stretching\",\n",
            "\t\"day5\": \"**Meal Plan**\\n\\n* Breakfast: Smoothie made with fruits, vegetables, and plant-based milk\\n* Lunch: Sandwich on whole-wheat bread with hummus, vegetables, and sprouts\\n* Dinner: Stir-fry with tofu, vegetables, and brown rice\\n* Snacks: Trail mix, energy bars, and fruit\\n\\n**Gym Training Routine**\\n\\n* Warm-up: 5 minutes of light cardio, such as jogging or cycling\\n* Strength training: 3 sets of 10-12 repetitions of each exercise\\n    * Squats\\n    * Lunges\\n    * Push-ups\\n    * Rows\\n    * Bicep curls\\n    * Tricep extensions\\n* Cool-down: 5 minutes of stretching\",\n",
            "\t\"day6\": \"**Meal Plan**\\n\\n* Breakfast: Tofu scramble with vegetables\\n* Lunch: Leftover stir-fry from dinner\\n* Dinner: Pasta with marinara sauce and vegetables\\n* Snacks: Popcorn, edamame, and hummus\\n\\n**Gym Training Routine**\\n\\n* Rest\",\n",
            "\t\"day7\": \"**Meal Plan**\\n\\n* Breakfast: Overnight oats with chia seeds, berries, and nuts\\n* Lunch: Salad with grilled tofu, quinoa, and vegetables\\n* Dinner: Lentil soup with whole-wheat bread\\n* Snacks: Fruits, vegetables, nuts, and seeds\\n\\n**Gym Training Routine**\\n\\n* Active recovery: Go for a walk, hike, or bike ride\"\n",
            "}\n",
            "```\n"
          ]
        }
      ]
    },
    {
      "cell_type": "code",
      "source": [
        "output = output_parser.parse(response.content)"
      ],
      "metadata": {
        "id": "VH5XlIeSF5Po"
      },
      "execution_count": 60,
      "outputs": []
    },
    {
      "cell_type": "code",
      "source": [
        "output"
      ],
      "metadata": {
        "colab": {
          "base_uri": "https://localhost:8080/"
        },
        "id": "7XqPl38FGBJy",
        "outputId": "4dcf6517-254b-46e2-c661-f148c65c7072"
      },
      "execution_count": 62,
      "outputs": [
        {
          "output_type": "execute_result",
          "data": {
            "text/plain": [
              "{'day1': '**Meal Plan**\\n\\n* Breakfast: Oatmeal with berries and nuts\\n* Lunch: Salad with grilled tofu, quinoa, and vegetables\\n* Dinner: Lentil soup with whole-wheat bread\\n* Snacks: Fruits, vegetables, nuts, and seeds\\n\\n**Gym Training Routine**\\n\\n* Warm-up: 5 minutes of light cardio, such as jogging or cycling\\n* Strength training: 3 sets of 10-12 repetitions of each exercise\\n    * Squats\\n    * Lunges\\n    * Push-ups\\n    * Rows\\n    * Bicep curls\\n    * Tricep extensions\\n* Cool-down: 5 minutes of stretching',\n",
              " 'day2': '**Meal Plan**\\n\\n* Breakfast: Smoothie made with fruits, vegetables, and plant-based milk\\n* Lunch: Sandwich on whole-wheat bread with hummus, vegetables, and sprouts\\n* Dinner: Stir-fry with tofu, vegetables, and brown rice\\n* Snacks: Trail mix, energy bars, and fruit\\n\\n**Gym Training Routine**\\n\\n* Warm-up: 5 minutes of light cardio, such as jogging or cycling\\n* Cardio: 30 minutes of moderate-intensity cardio, such as running, swimming, or biking\\n* Strength training: 3 sets of 10-12 repetitions of each exercise\\n    * Deadlifts\\n    * Bench press\\n    * Overhead press\\n    * Pull-ups\\n    * Dips\\n* Cool-down: 5 minutes of stretching',\n",
              " 'day3': '**Meal Plan**\\n\\n* Breakfast: Tofu scramble with vegetables\\n* Lunch: Leftover stir-fry from dinner\\n* Dinner: Pasta with marinara sauce and vegetables\\n* Snacks: Popcorn, edamame, and hummus\\n\\n**Gym Training Routine**\\n\\n* Warm-up: 5 minutes of light cardio, such as jogging or cycling\\n* Strength training: 3 sets of 10-12 repetitions of each exercise\\n    * Squats\\n    * Lunges\\n    * Push-ups\\n    * Rows\\n    * Bicep curls\\n    * Tricep extensions\\n* Cool-down: 5 minutes of stretching',\n",
              " 'day4': '**Meal Plan**\\n\\n* Breakfast: Overnight oats with chia seeds, berries, and nuts\\n* Lunch: Salad with grilled tofu, quinoa, and vegetables\\n* Dinner: Lentil soup with whole-wheat bread\\n* Snacks: Fruits, vegetables, nuts, and seeds\\n\\n**Gym Training Routine**\\n\\n* Warm-up: 5 minutes of light cardio, such as jogging or cycling\\n* Cardio: 30 minutes of moderate-intensity cardio, such as running, swimming, or biking\\n* Strength training: 3 sets of 10-12 repetitions of each exercise\\n    * Deadlifts\\n    * Bench press\\n    * Overhead press\\n    * Pull-ups\\n    * Dips\\n* Cool-down: 5 minutes of stretching',\n",
              " 'day5': '**Meal Plan**\\n\\n* Breakfast: Smoothie made with fruits, vegetables, and plant-based milk\\n* Lunch: Sandwich on whole-wheat bread with hummus, vegetables, and sprouts\\n* Dinner: Stir-fry with tofu, vegetables, and brown rice\\n* Snacks: Trail mix, energy bars, and fruit\\n\\n**Gym Training Routine**\\n\\n* Warm-up: 5 minutes of light cardio, such as jogging or cycling\\n* Strength training: 3 sets of 10-12 repetitions of each exercise\\n    * Squats\\n    * Lunges\\n    * Push-ups\\n    * Rows\\n    * Bicep curls\\n    * Tricep extensions\\n* Cool-down: 5 minutes of stretching',\n",
              " 'day6': '**Meal Plan**\\n\\n* Breakfast: Tofu scramble with vegetables\\n* Lunch: Leftover stir-fry from dinner\\n* Dinner: Pasta with marinara sauce and vegetables\\n* Snacks: Popcorn, edamame, and hummus\\n\\n**Gym Training Routine**\\n\\n* Rest',\n",
              " 'day7': '**Meal Plan**\\n\\n* Breakfast: Overnight oats with chia seeds, berries, and nuts\\n* Lunch: Salad with grilled tofu, quinoa, and vegetables\\n* Dinner: Lentil soup with whole-wheat bread\\n* Snacks: Fruits, vegetables, nuts, and seeds\\n\\n**Gym Training Routine**\\n\\n* Active recovery: Go for a walk, hike, or bike ride'}"
            ]
          },
          "metadata": {},
          "execution_count": 62
        }
      ]
    },
    {
      "cell_type": "code",
      "source": [
        "to_markdown(output[\"day1\"])"
      ],
      "metadata": {
        "colab": {
          "base_uri": "https://localhost:8080/",
          "height": 335
        },
        "id": "aWM3Z3m4GFvg",
        "outputId": "6ae2f796-f1a7-4975-c76c-3611a2640a77"
      },
      "execution_count": 65,
      "outputs": [
        {
          "output_type": "execute_result",
          "data": {
            "text/plain": [
              "<IPython.core.display.Markdown object>"
            ],
            "text/markdown": "> **Meal Plan**\n> \n> * Breakfast: Oatmeal with berries and nuts\n> * Lunch: Salad with grilled tofu, quinoa, and vegetables\n> * Dinner: Lentil soup with whole-wheat bread\n> * Snacks: Fruits, vegetables, nuts, and seeds\n> \n> **Gym Training Routine**\n> \n> * Warm-up: 5 minutes of light cardio, such as jogging or cycling\n> * Strength training: 3 sets of 10-12 repetitions of each exercise\n>     * Squats\n>     * Lunges\n>     * Push-ups\n>     * Rows\n>     * Bicep curls\n>     * Tricep extensions\n> * Cool-down: 5 minutes of stretching"
          },
          "metadata": {},
          "execution_count": 65
        }
      ]
    },
    {
      "cell_type": "code",
      "source": [
        "to_markdown(output[\"day2\"])"
      ],
      "metadata": {
        "colab": {
          "base_uri": "https://localhost:8080/",
          "height": 335
        },
        "id": "4JQtV21yGSE8",
        "outputId": "dd6601fe-f84c-43f7-f7d4-5ea4eca2125f"
      },
      "execution_count": 68,
      "outputs": [
        {
          "output_type": "execute_result",
          "data": {
            "text/plain": [
              "<IPython.core.display.Markdown object>"
            ],
            "text/markdown": "> **Meal Plan**\n> \n> * Breakfast: Smoothie made with fruits, vegetables, and plant-based milk\n> * Lunch: Sandwich on whole-wheat bread with hummus, vegetables, and sprouts\n> * Dinner: Stir-fry with tofu, vegetables, and brown rice\n> * Snacks: Trail mix, energy bars, and fruit\n> \n> **Gym Training Routine**\n> \n> * Warm-up: 5 minutes of light cardio, such as jogging or cycling\n> * Cardio: 30 minutes of moderate-intensity cardio, such as running, swimming, or biking\n> * Strength training: 3 sets of 10-12 repetitions of each exercise\n>     * Deadlifts\n>     * Bench press\n>     * Overhead press\n>     * Pull-ups\n>     * Dips\n> * Cool-down: 5 minutes of stretching"
          },
          "metadata": {},
          "execution_count": 68
        }
      ]
    },
    {
      "cell_type": "code",
      "source": [
        "to_markdown(output[\"day3\"])"
      ],
      "metadata": {
        "colab": {
          "base_uri": "https://localhost:8080/",
          "height": 335
        },
        "id": "cNfVIiN_Gnrc",
        "outputId": "4214e211-6da6-42ed-9de9-05b9dbeed3d0"
      },
      "execution_count": 69,
      "outputs": [
        {
          "output_type": "execute_result",
          "data": {
            "text/plain": [
              "<IPython.core.display.Markdown object>"
            ],
            "text/markdown": "> **Meal Plan**\n> \n> * Breakfast: Tofu scramble with vegetables\n> * Lunch: Leftover stir-fry from dinner\n> * Dinner: Pasta with marinara sauce and vegetables\n> * Snacks: Popcorn, edamame, and hummus\n> \n> **Gym Training Routine**\n> \n> * Warm-up: 5 minutes of light cardio, such as jogging or cycling\n> * Strength training: 3 sets of 10-12 repetitions of each exercise\n>     * Squats\n>     * Lunges\n>     * Push-ups\n>     * Rows\n>     * Bicep curls\n>     * Tricep extensions\n> * Cool-down: 5 minutes of stretching"
          },
          "metadata": {},
          "execution_count": 69
        }
      ]
    },
    {
      "cell_type": "code",
      "source": [
        "to_markdown(output[\"day4\"])"
      ],
      "metadata": {
        "colab": {
          "base_uri": "https://localhost:8080/",
          "height": 335
        },
        "id": "Rf23cWxjGsWk",
        "outputId": "424b44e1-90b1-4b1d-813a-68ae712e5b3f"
      },
      "execution_count": 70,
      "outputs": [
        {
          "output_type": "execute_result",
          "data": {
            "text/plain": [
              "<IPython.core.display.Markdown object>"
            ],
            "text/markdown": "> **Meal Plan**\n> \n> * Breakfast: Overnight oats with chia seeds, berries, and nuts\n> * Lunch: Salad with grilled tofu, quinoa, and vegetables\n> * Dinner: Lentil soup with whole-wheat bread\n> * Snacks: Fruits, vegetables, nuts, and seeds\n> \n> **Gym Training Routine**\n> \n> * Warm-up: 5 minutes of light cardio, such as jogging or cycling\n> * Cardio: 30 minutes of moderate-intensity cardio, such as running, swimming, or biking\n> * Strength training: 3 sets of 10-12 repetitions of each exercise\n>     * Deadlifts\n>     * Bench press\n>     * Overhead press\n>     * Pull-ups\n>     * Dips\n> * Cool-down: 5 minutes of stretching"
          },
          "metadata": {},
          "execution_count": 70
        }
      ]
    },
    {
      "cell_type": "code",
      "source": [
        "to_markdown(output[\"day5\"])"
      ],
      "metadata": {
        "colab": {
          "base_uri": "https://localhost:8080/",
          "height": 335
        },
        "id": "uLL54HvAGwMD",
        "outputId": "cf1c2523-4726-46eb-e655-9454f7d9a5b8"
      },
      "execution_count": 71,
      "outputs": [
        {
          "output_type": "execute_result",
          "data": {
            "text/plain": [
              "<IPython.core.display.Markdown object>"
            ],
            "text/markdown": "> **Meal Plan**\n> \n> * Breakfast: Smoothie made with fruits, vegetables, and plant-based milk\n> * Lunch: Sandwich on whole-wheat bread with hummus, vegetables, and sprouts\n> * Dinner: Stir-fry with tofu, vegetables, and brown rice\n> * Snacks: Trail mix, energy bars, and fruit\n> \n> **Gym Training Routine**\n> \n> * Warm-up: 5 minutes of light cardio, such as jogging or cycling\n> * Strength training: 3 sets of 10-12 repetitions of each exercise\n>     * Squats\n>     * Lunges\n>     * Push-ups\n>     * Rows\n>     * Bicep curls\n>     * Tricep extensions\n> * Cool-down: 5 minutes of stretching"
          },
          "metadata": {},
          "execution_count": 71
        }
      ]
    },
    {
      "cell_type": "code",
      "source": [
        "to_markdown(output[\"day6\"])"
      ],
      "metadata": {
        "colab": {
          "base_uri": "https://localhost:8080/",
          "height": 184
        },
        "id": "fZQiKmM-GyR4",
        "outputId": "53f3b199-dda7-47ba-d3a6-a68845f7115b"
      },
      "execution_count": 72,
      "outputs": [
        {
          "output_type": "execute_result",
          "data": {
            "text/plain": [
              "<IPython.core.display.Markdown object>"
            ],
            "text/markdown": "> **Meal Plan**\n> \n> * Breakfast: Tofu scramble with vegetables\n> * Lunch: Leftover stir-fry from dinner\n> * Dinner: Pasta with marinara sauce and vegetables\n> * Snacks: Popcorn, edamame, and hummus\n> \n> **Gym Training Routine**\n> \n> * Rest"
          },
          "metadata": {},
          "execution_count": 72
        }
      ]
    },
    {
      "cell_type": "code",
      "source": [
        "to_markdown(output[\"day7\"])"
      ],
      "metadata": {
        "colab": {
          "base_uri": "https://localhost:8080/",
          "height": 184
        },
        "id": "ghFS_t1RG10Q",
        "outputId": "a86ee760-a780-4628-8c61-9e27c6b5f206"
      },
      "execution_count": 73,
      "outputs": [
        {
          "output_type": "execute_result",
          "data": {
            "text/plain": [
              "<IPython.core.display.Markdown object>"
            ],
            "text/markdown": "> **Meal Plan**\n> \n> * Breakfast: Overnight oats with chia seeds, berries, and nuts\n> * Lunch: Salad with grilled tofu, quinoa, and vegetables\n> * Dinner: Lentil soup with whole-wheat bread\n> * Snacks: Fruits, vegetables, nuts, and seeds\n> \n> **Gym Training Routine**\n> \n> * Active recovery: Go for a walk, hike, or bike ride"
          },
          "metadata": {},
          "execution_count": 73
        }
      ]
    }
  ]
}